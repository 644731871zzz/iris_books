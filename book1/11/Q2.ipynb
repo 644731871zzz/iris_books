{
 "cells": [
  {
   "cell_type": "code",
   "execution_count": 43,
   "id": "8159d007-ee65-4f91-a172-f0d19288f1ac",
   "metadata": {},
   "outputs": [
    {
     "data": {
      "text/plain": [
       "<matplotlib.collections.PathCollection at 0x149c9e990>"
      ]
     },
     "execution_count": 43,
     "metadata": {},
     "output_type": "execute_result"
    },
    {
     "data": {
      "image/png": "[encoded data removed]",
      "text/plain": [
       "<Figure size 640x480 with 3 Axes>"
      ]
     },
     "metadata": {},
     "output_type": "display_data"
    }
   ],
   "source": [
    "#matplotlib\n",
    "import matplotlib.pyplot as plt\n",
    "import numpy as np\n",
    "\n",
    "#生成数据\n",
    "x1=np.arange(0,50,step=0.5)\n",
    "x2=np.arange(0,100,step=1)\n",
    "\n",
    "#先配置画布,\n",
    "fig=plt.figure()\n",
    "\n",
    "xlim=np.arange(0,100,step=1)\n",
    "\n",
    "\n",
    "f1=x1\n",
    "ax1=fig.add_subplot(12,1,1)\n",
    "ax1.scatter(x1,f1)\n",
    "\n",
    "f2=x2\n",
    "ax2=fig.add_subplot(12,1,2)\n",
    "ax2.scatter(xlim,f2)\n",
    "\n",
    "f3=x1+x2\n",
    "ax3=fig.add_subplot(12,1,3)\n",
    "ax3.scatter(xlim,f3)\n"
   ]
  },
  {
   "cell_type": "code",
   "execution_count": null,
   "id": "449a2247-ad3b-4bfc-ba40-9790412d3e80",
   "metadata": {},
   "outputs": [],
   "source": []
  }
 ],
 "metadata": {
  "kernelspec": {
   "display_name": "Python [conda env:base] *",
   "language": "python",
   "name": "conda-base-py"
  },
  "language_info": {
   "codemirror_mode": {
    "name": "ipython",
    "version": 3
   },
   "file_extension": ".py",
   "mimetype": "text/x-python",
   "name": "python",
   "nbconvert_exporter": "python",
   "pygments_lexer": "ipython3",
   "version": "3.12.7"
  }
 },
 "nbformat": 4,
 "nbformat_minor": 5
}
