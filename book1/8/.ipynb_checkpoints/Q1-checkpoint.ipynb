{
 "cells": [
  {
   "cell_type": "code",
   "execution_count": 2,
   "id": "983503d3-e7ec-4a0f-aa53-d7452c803175",
   "metadata": {},
   "outputs": [],
   "source": [
    "from  qone import create_zeros_matrix"
   ]
  },
  {
   "cell_type": "code",
   "execution_count": 8,
   "id": "5bde440c-6c45-4599-af49-8a9344869a1a",
   "metadata": {},
   "outputs": [
    {
     "data": {
      "text/plain": [
       "[[0, 0, 0, 0], [0, 0, 0, 0], [0, 0, 0, 0]]"
      ]
     },
     "execution_count": 8,
     "metadata": {},
     "output_type": "execute_result"
    }
   ],
   "source": [
    "create_zeros_matrix(3,4)"
   ]
  },
  {
   "cell_type": "code",
   "execution_count": null,
   "id": "3fc2a198-afb4-429b-a5c5-a9bf1cc00660",
   "metadata": {},
   "outputs": [],
   "source": []
  }
 ],
 "metadata": {
  "kernelspec": {
   "display_name": "Python [conda env:base] *",
   "language": "python",
   "name": "conda-base-py"
  },
  "language_info": {
   "codemirror_mode": {
    "name": "ipython",
    "version": 3
   },
   "file_extension": ".py",
   "mimetype": "text/x-python",
   "name": "python",
   "nbconvert_exporter": "python",
   "pygments_lexer": "ipython3",
   "version": "3.12.7"
  }
 },
 "nbformat": 4,
 "nbformat_minor": 5
}
