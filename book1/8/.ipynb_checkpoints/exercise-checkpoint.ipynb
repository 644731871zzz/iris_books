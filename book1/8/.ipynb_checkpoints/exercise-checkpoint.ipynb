{
 "cells": [
  {
   "cell_type": "code",
   "execution_count": 7,
   "id": "4e08a134-0bf9-4a23-9c90-3f802a321941",
   "metadata": {},
   "outputs": [
    {
     "data": {
      "image/png": "[encoded data removed]",
      "text/plain": [
       "<Figure size 400x400 with 1 Axes>"
      ]
     },
     "metadata": {},
     "output_type": "display_data"
    },
    {
     "data": {
      "image/png": "[encoded data removed]",
      "text/plain": [
       "<Figure size 400x400 with 1 Axes>"
      ]
     },
     "metadata": {},
     "output_type": "display_data"
    }
   ],
   "source": [
    "import matplotlib.pyplot as plt\n",
    "import numpy as np\n",
    "\n",
    "#定义了一个无输入无输出的函数\n",
    "def beautify_line_chart():\n",
    "    #添加标签\n",
    "    plt.xlabel(\"x\")\n",
    "    plt.ylabel(\"y\")\n",
    "    #设置坐标轴范围\n",
    "    plt.xlim(-2,2)\n",
    "    plt.ylim(-2,2)\n",
    "    #设置横纵坐标刻度\n",
    "    plt.xticks([-2,-1,0,1,2])\n",
    "    plt.yticks([-2,-1,0,1,2])\n",
    "    #添加网格线\n",
    "    plt.grid(True)\n",
    "    #横纵轴统一标尺\n",
    "    plt.gca().set_aspect('equal',adjustable='box')\n",
    "    #显示图形\n",
    "    plt.show()\n",
    "\n",
    "x_array=np.linspace(-2,2,101)\n",
    "#使用np的linspace函数创建一个包含101个元素数组,均匀分布到-2,2上左闭右开\n",
    "\n",
    "#绘制直线\n",
    "fig,ax=plt.subplots(figsize=(4,4))\n",
    "#plt.subplots()返回值解包为两个变量fig和ax\n",
    "#fig为窗口对象,可设置窗口属性,ax为坐标轴对象,绘制图形和设置坐标轴属性\n",
    "#figsize用于表示窗口的宽度\n",
    "\n",
    "y_array=x_array #一次函数\n",
    "plt.plot(x_array,y_array)\n",
    "beautify_line_chart()\n",
    "\n",
    "#绘制抛物线\n",
    "fig,ax=plt.subplots(figsize=(4,4))\n",
    "y_array=x_array**2-2\n",
    "plt.plot(x_array,y_array)\n",
    "beautify_line_chart()"
   ]
  },
  {
   "cell_type": "code",
   "execution_count": 9,
   "id": "3c9c8102-78a7-4042-9ec2-36714da74b5a",
   "metadata": {},
   "outputs": [
    {
     "name": "stdout",
     "output_type": "stream",
     "text": [
      "8\n"
     ]
    }
   ],
   "source": [
    "def add_numbers(a,b):\n",
    "    result=a+b\n",
    "    return result\n",
    "\n",
    "my_sum=add_numbers(3,5)\n",
    "print(my_sum)"
   ]
  },
  {
   "cell_type": "code",
   "execution_count": 13,
   "id": "892bdc12-4544-4fbb-8840-8af96cd5ad51",
   "metadata": {},
   "outputs": [
    {
     "name": "stdout",
     "output_type": "stream",
     "text": [
      "(15, 5, 50, 2.0)\n"
     ]
    }
   ],
   "source": [
    "def arithmetic_operations(a,b):\n",
    "    add=a+b\n",
    "    sub=a-b\n",
    "    mul=a*b\n",
    "    div=a/b\n",
    "    return add,sub,mul,div\n",
    "\n",
    "a,b=10,5\n",
    "result=arithmetic_operations(a,b)\n",
    "print(result)"
   ]
  },
  {
   "cell_type": "code",
   "execution_count": 19,
   "id": "d27f854f-3c06-41d0-a06c-281142d61bab",
   "metadata": {},
   "outputs": [
    {
     "name": "stdout",
     "output_type": "stream",
     "text": [
      "Hello,James\n",
      "Good morning,Jamess\n"
     ]
    }
   ],
   "source": [
    "def greet(name,greeting='Hello'):\n",
    "    print(f\"{greeting},{name}\")\n",
    "\n",
    "greet('James')\n",
    "greet('Jamess','Good morning')"
   ]
  },
  {
   "cell_type": "code",
   "execution_count": 25,
   "id": "c6c100e2-03dc-4aa0-81fb-5a37b9474bc2",
   "metadata": {},
   "outputs": [
    {
     "name": "stdout",
     "output_type": "stream",
     "text": [
      "global_x: 8\n",
      "local_x: 39\n",
      "global_x: 88\n",
      "global: 8\n"
     ]
    },
    {
     "ename": "NameError",
     "evalue": "name 'local_x' is not defined",
     "output_type": "error",
     "traceback": [
      "\u001b[0;31m---------------------------------------------------------------------------\u001b[0m",
      "\u001b[0;31mNameError\u001b[0m                                 Traceback (most recent call last)",
      "Cell \u001b[0;32mIn[25], line 13\u001b[0m\n\u001b[1;32m     10\u001b[0m my_function(\u001b[38;5;241m39\u001b[39m)\n\u001b[1;32m     12\u001b[0m \u001b[38;5;28mprint\u001b[39m(\u001b[38;5;124m\"\u001b[39m\u001b[38;5;124mglobal:\u001b[39m\u001b[38;5;124m\"\u001b[39m,global_x)\n\u001b[0;32m---> 13\u001b[0m \u001b[38;5;28mprint\u001b[39m(\u001b[38;5;124m\"\u001b[39m\u001b[38;5;124mlocal:\u001b[39m\u001b[38;5;124m\"\u001b[39m,local_x)\n",
      "\u001b[0;31mNameError\u001b[0m: name 'local_x' is not defined"
     ]
    }
   ],
   "source": [
    "global_x=8\n",
    "print(\"global_x:\",global_x)\n",
    "\n",
    "def my_function(local_x):\n",
    "    print(\"local_x:\",local_x)\n",
    "    #创建同名局部变量\n",
    "    global_x=88\n",
    "    print(\"global_x:\",global_x)\n",
    "\n",
    "my_function(39)\n",
    "\n",
    "print(\"global:\",global_x)\n",
    "#局部变量在外部调用时候发现被销毁了(不存在)\n",
    "print(\"local:\",local_x)"
   ]
  },
  {
   "cell_type": "code",
   "execution_count": 29,
   "id": "d43a897e-2a04-4d06-953b-145d9751b619",
   "metadata": {},
   "outputs": [
    {
     "name": "stdout",
     "output_type": "stream",
     "text": [
      "global_x: 8\n",
      "local_x: 38\n",
      "global: 88\n",
      "global_x: 88\n"
     ]
    }
   ],
   "source": [
    "#函数内部修改全局变量需要使用global进行声明\n",
    "global_x=8\n",
    "print(\"global_x:\",global_x)\n",
    "\n",
    "def my_function(local_x):\n",
    "    print(\"local_x:\",local_x)\n",
    "    #声明变量是全局变量\n",
    "    global global_x\n",
    "    global_x=88\n",
    "    print(\"global:\",global_x)\n",
    "\n",
    "my_function(38)\n",
    "print(\"global_x:\",global_x)"
   ]
  },
  {
   "cell_type": "code",
   "execution_count": 37,
   "id": "b9212c97-6c4f-420b-978c-c102fdbefed3",
   "metadata": {},
   "outputs": [
    {
     "name": "stdout",
     "output_type": "stream",
     "text": [
      "A@B = \n",
      "[1, 2, 3]\n",
      "[2, 4, 6]\n",
      "[3, 6, 9]\n",
      "B@A = \n",
      "[[14]]\n"
     ]
    }
   ],
   "source": [
    "#自定义函数 矩阵乘法\n",
    "def matrix_multiplication(A,B):\n",
    "    #定义全0矩阵C 用来存放结果\n",
    "    C=[[0]*len(B[0]) for i in range(len(A))]\n",
    "    #遍历A的行\n",
    "    for i in range(len(A)):\n",
    "        #遍历B的列\n",
    "        for j in range(len(B[0])):\n",
    "            #消去维度并压缩到C的对应位置\n",
    "            for k in range(len(B)):\n",
    "                C[i][j]+=A[i][k]*B[k][j]\n",
    "\n",
    "    return C\n",
    "\n",
    "A=[[1],[2],[3]]\n",
    "B=[[1,2,3]]\n",
    "print('A@B = ')\n",
    "C=matrix_multiplication(A,B)\n",
    "for row in C:\n",
    "    print(row)\n",
    "\n",
    "print('B@A = ')\n",
    "D=matrix_multiplication(B,A)\n",
    "for row in D:\n",
    "    print(D)"
   ]
  },
  {
   "cell_type": "code",
   "execution_count": 47,
   "id": "e711b96f-4b2d-4b50-ad1b-abdb2289e242",
   "metadata": {},
   "outputs": [
    {
     "name": "stdout",
     "output_type": "stream",
     "text": [
      "A@B = \n",
      "[1, 2, 3]\n",
      "[2, 4, 6]\n",
      "[3, 6, 9]\n",
      "B@A = \n",
      "[[14]]\n"
     ]
    }
   ],
   "source": [
    "#自定义函数 矩阵乘法\n",
    "def matrix_multiplication(A,B):\n",
    "\n",
    "    #检查两个矩阵的形状\n",
    "    if len(A[0])!= len(B):\n",
    "        raise ValueError(\"Error:check matricx sizes\")\n",
    "\n",
    "    else:\n",
    "        #定义全0矩阵C 用来存放结果\n",
    "        C=[[0]*len(B[0]) for i in range(len(A))]\n",
    "        #遍历A的行\n",
    "        for i in range(len(A)):\n",
    "            #遍历B的列\n",
    "            for j in range(len(B[0])):\n",
    "                #消去维度并压缩到C的对应位置\n",
    "                for k in range(len(B)):\n",
    "                    C[i][j]+=A[i][k]*B[k][j]\n",
    "    \n",
    "        return C\n",
    "\n",
    "A=[[1],[2],[3]]\n",
    "B=[[1,2,3]]\n",
    "print('A@B = ')\n",
    "C=matrix_multiplication(A,B)\n",
    "for row in C:\n",
    "    print(row)\n",
    "\n",
    "print('B@A = ')\n",
    "D=matrix_multiplication(B,A)\n",
    "for row in D:\n",
    "    print(D)"
   ]
  },
  {
   "cell_type": "code",
   "execution_count": 49,
   "id": "f9b29400-e334-4d44-aee6-8b77f7910229",
   "metadata": {},
   "outputs": [
    {
     "ename": "AssertionError",
     "evalue": "除数不能为0",
     "output_type": "error",
     "traceback": [
      "\u001b[0;31m---------------------------------------------------------------------------\u001b[0m",
      "\u001b[0;31mAssertionError\u001b[0m                            Traceback (most recent call last)",
      "Cell \u001b[0;32mIn[49], line 5\u001b[0m\n\u001b[1;32m      2\u001b[0m     \u001b[38;5;28;01massert\u001b[39;00m b\u001b[38;5;241m!=\u001b[39m \u001b[38;5;241m0\u001b[39m, \u001b[38;5;124m\"\u001b[39m\u001b[38;5;124m除数不能为0\u001b[39m\u001b[38;5;124m\"\u001b[39m\n\u001b[1;32m      3\u001b[0m     \u001b[38;5;28;01mreturn\u001b[39;00m(a\u001b[38;5;241m/\u001b[39mb)\n\u001b[0;32m----> 5\u001b[0m result\u001b[38;5;241m=\u001b[39mdivide(\u001b[38;5;241m10\u001b[39m,\u001b[38;5;241m0\u001b[39m)\n\u001b[1;32m      6\u001b[0m \u001b[38;5;28mprint\u001b[39m(result)\n",
      "Cell \u001b[0;32mIn[49], line 2\u001b[0m, in \u001b[0;36mdivide\u001b[0;34m(a, b)\u001b[0m\n\u001b[1;32m      1\u001b[0m \u001b[38;5;28;01mdef\u001b[39;00m \u001b[38;5;21mdivide\u001b[39m(a,b):\n\u001b[0;32m----> 2\u001b[0m     \u001b[38;5;28;01massert\u001b[39;00m b\u001b[38;5;241m!=\u001b[39m \u001b[38;5;241m0\u001b[39m, \u001b[38;5;124m\"\u001b[39m\u001b[38;5;124m除数不能为0\u001b[39m\u001b[38;5;124m\"\u001b[39m\n\u001b[1;32m      3\u001b[0m     \u001b[38;5;28;01mreturn\u001b[39;00m(a\u001b[38;5;241m/\u001b[39mb)\n",
      "\u001b[0;31mAssertionError\u001b[0m: 除数不能为0"
     ]
    }
   ],
   "source": [
    "def divide(a,b):\n",
    "    assert b!= 0, \"除数不能为0\"\n",
    "    return(a/b)\n",
    "\n",
    "result=divide(10,0)\n",
    "print(result)"
   ]
  },
  {
   "cell_type": "code",
   "execution_count": 51,
   "id": "95de8eff-f405-4b6a-90d4-4a86e3012646",
   "metadata": {},
   "outputs": [
    {
     "name": "stdout",
     "output_type": "stream",
     "text": [
      "Help on function inner_prod in module __main__:\n",
      "\n",
      "inner_prod(a, b)\n",
      "    自定义函数计算两个向量内积\n",
      "    输入:\n",
      "    a:向量,类型为数据列表\n",
      "    b:向量,类型为数据列表\n",
      "    输出:\n",
      "    c:标量\n",
      "\n",
      "\n",
      "    自定义函数计算两个向量内积\n",
      "    输入:\n",
      "    a:向量,类型为数据列表\n",
      "    b:向量,类型为数据列表\n",
      "    输出:\n",
      "    c:标量\n",
      "    \n",
      "165\n"
     ]
    }
   ],
   "source": [
    "#计算向量内积\n",
    "def inner_prod(a,b):\n",
    "    '''\n",
    "    自定义函数计算两个向量内积\n",
    "    输入:\n",
    "    a:向量,类型为数据列表\n",
    "    b:向量,类型为数据列表\n",
    "    输出:\n",
    "    c:标量\n",
    "    '''\n",
    "\n",
    "    #检查两个向量元素数量是否相同\n",
    "    if len(a) != len(b):\n",
    "        raise ValueError(\"Error:check a/b lengths\")\n",
    "\n",
    "    #初始化内积为0\n",
    "    dot_product=0\n",
    "    #使用for循环计算内积\n",
    "    for i in range(len(a)):\n",
    "        dot_product+=a[i]*b[i]\n",
    "\n",
    "    return dot_product\n",
    "\n",
    "help(inner_prod)\n",
    "print(inner_prod.__doc__)\n",
    "\n",
    "a=[1,2,3,4,5,6,7,8,9]\n",
    "b=a[::-1]\n",
    "\n",
    "c=inner_prod(a,b)\n",
    "print(c)"
   ]
  },
  {
   "cell_type": "code",
   "execution_count": 53,
   "id": "1f5f1ac6-8c3c-49f0-8fdd-d74b3ba90f95",
   "metadata": {},
   "outputs": [
    {
     "data": {
      "text/plain": [
       "[[0, 0, 0, 0], [0, 0, 0, 0], [0, 0, 0, 0]]"
      ]
     },
     "execution_count": 53,
     "metadata": {},
     "output_type": "execute_result"
    }
   ],
   "source": [
    "def create_zeros_matrix(rows,cols):\n",
    "    matrix=[]\n",
    "    for _ in range(rows):\n",
    "        row_idx=[0]*cols\n",
    "        matrix.append(row_idx)\n",
    "    return matrix\n",
    "\n",
    "create_zeros_matrix(3,4)"
   ]
  },
  {
   "cell_type": "code",
   "execution_count": 57,
   "id": "a1248a41-4718-42ed-bf73-d0096a8ae657",
   "metadata": {},
   "outputs": [
    {
     "data": {
      "text/plain": [
       "[[1, 0, 0, 0], [0, 1, 0, 0], [0, 0, 1, 0], [0, 0, 0, 1]]"
      ]
     },
     "execution_count": 57,
     "metadata": {},
     "output_type": "execute_result"
    }
   ],
   "source": [
    "def identity_matrix(size):\n",
    "    matrix=[]\n",
    "    for i in range(size):\n",
    "        row=[0]*size\n",
    "        row[i]=1\n",
    "        matrix.append(row)\n",
    "    return matrix\n",
    "\n",
    "identity_matrix(4)"
   ]
  },
  {
   "cell_type": "code",
   "execution_count": 63,
   "id": "736a188b-e1c5-4261-9425-e800972d6ef8",
   "metadata": {},
   "outputs": [
    {
     "data": {
      "text/plain": [
       "[[4, 0, 0, 0], [0, 3, 0, 0], [0, 0, 2, 0], [0, 0, 0, 1]]"
      ]
     },
     "execution_count": 63,
     "metadata": {},
     "output_type": "execute_result"
    }
   ],
   "source": [
    "def diagonal_matrix(values):\n",
    "    size=len(values);matrix=[]\n",
    "    for i in range(size):\n",
    "        row=[0]*size\n",
    "        matrix.append(row)\n",
    "        matrix[i][i]=values[i]\n",
    "    return matrix\n",
    "diagonal_values=[4,3,2,1]\n",
    "diagonal_matrix(diagonal_values)"
   ]
  },
  {
   "cell_type": "code",
   "execution_count": 65,
   "id": "ec9f8f7e-5840-4da9-80f8-681753afbd09",
   "metadata": {},
   "outputs": [
    {
     "data": {
      "text/plain": [
       "[1, 5]"
      ]
     },
     "execution_count": 65,
     "metadata": {},
     "output_type": "execute_result"
    }
   ],
   "source": [
    "def extract_main_diagonal(matrix):\n",
    "    rows=len(matrix);cols=len(matrix[0])\n",
    "    size=min(rows,cols)\n",
    "    diagonal=[matrix[i][i] for i in range(size)]\n",
    "    return diagonal\n",
    "\n",
    "matrix=[[1,2,3],\n",
    "        [4,5,6]]\n",
    "extract_main_diagonal(matrix)"
   ]
  },
  {
   "cell_type": "code",
   "execution_count": 92,
   "id": "fb26472c-9dc6-4c46-aca1-437ed49de964",
   "metadata": {},
   "outputs": [
    {
     "name": "stdout",
     "output_type": "stream",
     "text": [
      "矩阵的迹为: 15\n"
     ]
    }
   ],
   "source": [
    "def trace(matrix):\n",
    "    rows=len(matrix)\n",
    "    cols=len(matrix[0])\n",
    "    if rows != cols:\n",
    "        raise ValueError(\"Matrix is not square\")\n",
    "    diagonal_sum= sum(matrix[i][i] for i in range(rows))\n",
    "    return diagonal_sum\n",
    "\n",
    "A=[[1,2,3],\n",
    "   [4,5,6],\n",
    "   [7,8,9]]\n",
    "\n",
    "trace_A=trace(A)\n",
    "print(\"矩阵的迹为:\",trace_A)\n",
    "    "
   ]
  },
  {
   "cell_type": "code",
   "execution_count": 94,
   "id": "1d039ef1-4c27-4652-ab6c-abb5b5f97c8a",
   "metadata": {},
   "outputs": [
    {
     "name": "stdout",
     "output_type": "stream",
     "text": [
      "是否为对称矩阵: True\n",
      "是否为对称矩阵: False\n"
     ]
    }
   ],
   "source": [
    "def is_symmetric(matrix):\n",
    "    rows=len(matrix)\n",
    "    cols=len(matrix[0])\n",
    "    #判断是否为方阵\n",
    "    if rows!= cols:\n",
    "        return Flase\n",
    "    #判断是否对称\n",
    "    for i in range(rows):\n",
    "        for j in range(cols):\n",
    "            if matrix[i][j] != matrix[j][i]:\n",
    "                return False\n",
    "    return True\n",
    "\n",
    "A=[[1,2,3],\n",
    "   [2,4,5],\n",
    "   [3,5,6]]\n",
    "B=[[1,2,3],\n",
    "   [2,4,0],\n",
    "   [0,5,6]]\n",
    "\n",
    "print(\"是否为对称矩阵:\",is_symmetric(A))\n",
    "print(\"是否为对称矩阵:\",is_symmetric(B))"
   ]
  },
  {
   "cell_type": "code",
   "execution_count": 96,
   "id": "b922b4e9-c0a5-48a7-a430-06e2e629b611",
   "metadata": {},
   "outputs": [
    {
     "name": "stdout",
     "output_type": "stream",
     "text": [
      "是否为转置矩阵 True\n",
      "是否为转置矩阵 False\n"
     ]
    }
   ],
   "source": [
    "def is_symmetric_2(matrix):\n",
    "    rows=len(matrix)\n",
    "    cols=len(matrix[0])\n",
    "    if rows != cols:\n",
    "        return False\n",
    "\n",
    "    tranposed=[[(matrix[j][i])\n",
    "                for j in range(rows)]\n",
    "                for i in range(rows)]\n",
    "    if(matrix == tranposed):\n",
    "        return True\n",
    "    return False\n",
    "\n",
    "A=[[1,2,3],\n",
    "   [2,4,5],\n",
    "   [3,5,6]]\n",
    "\n",
    "B=[[1,2,3],\n",
    "    [2,4,0],\n",
    "    [0,5,6]]\n",
    "\n",
    "print(\"是否为转置矩阵\",is_symmetric_2(A))\n",
    "print(\"是否为转置矩阵\",is_symmetric_2(B))"
   ]
  },
  {
   "cell_type": "code",
   "execution_count": 98,
   "id": "80f60524-c099-4681-80f6-44abe84df765",
   "metadata": {},
   "outputs": [
    {
     "name": "stdout",
     "output_type": "stream",
     "text": [
      "矩阵行列式 10\n"
     ]
    }
   ],
   "source": [
    "def determinant_2x2(matrix):\n",
    "    if len(matrix)!=2 or len(matrix[0])!=2:\n",
    "        raise ValueError(\"Mtrix must be 2x2\")\n",
    "    a=matrix[0][0]\n",
    "    b=matrix[0][1]\n",
    "    c=matrix[1][0]\n",
    "    d=matrix[1][1]\n",
    "    det=a*d-b*c\n",
    "    return det\n",
    "\n",
    "A=[[3,2],\n",
    "   [1,4]]\n",
    "det=determinant_2x2(A)\n",
    "print(\"矩阵行列式\",det)"
   ]
  },
  {
   "cell_type": "code",
   "execution_count": 102,
   "id": "bf4fa671-518f-4f86-9ef0-cc30d633af57",
   "metadata": {},
   "outputs": [
    {
     "name": "stdout",
     "output_type": "stream",
     "text": [
      "[[-2.5, 1.5], [2.0, -1.0]]\n"
     ]
    }
   ],
   "source": [
    "def inverse_2x2(matrix):\n",
    "    if len(matrix)!=2 or len(matrix[0])!=2:\n",
    "        raise ValueError(\"Matrix must be 2x2\")\n",
    "\n",
    "    a=matrix[0][0]\n",
    "    b=matrix[0][1]\n",
    "    c=matrix[1][0]\n",
    "    d=matrix[1][1]\n",
    "\n",
    "    det = a*d - b*c\n",
    "    if det ==0:\n",
    "        raise ValueError(\"Matrix is not invertible\")\n",
    "\n",
    "    inv_det=1/det\n",
    "    inv_matrix=[[d*inv_det,-b*inv_det],\n",
    "                [-c*inv_det,a*inv_det]]\n",
    "\n",
    "    return inv_matrix\n",
    "\n",
    "A=[[2,3],\n",
    "   [4,5]]\n",
    "inv_matrix=inverse_2x2(A)\n",
    "print(inv_matrix)"
   ]
  },
  {
   "cell_type": "code",
   "execution_count": 106,
   "id": "a2399617-4186-446e-b2bc-ad03e5639f2b",
   "metadata": {},
   "outputs": [
    {
     "name": "stdout",
     "output_type": "stream",
     "text": [
      "0 != 1\n",
      "1 != 1\n",
      "2 != 2\n",
      "3 != 6\n",
      "4 != 24\n",
      "5 != 120\n",
      "6 != 720\n",
      "7 != 5040\n",
      "8 != 40320\n",
      "9 != 362880\n"
     ]
    }
   ],
   "source": [
    "def factorial(n):\n",
    "    if n==0 or n==1:\n",
    "        return 1\n",
    "    else:\n",
    "        return n *factorial(n-1)\n",
    "\n",
    "#测试函数\n",
    "for i in range(10):\n",
    "    print(f'{i} != {factorial(i)}')"
   ]
  },
  {
   "cell_type": "code",
   "execution_count": 110,
   "id": "b95a96c5-5365-46c1-9592-8d00e4d50dd0",
   "metadata": {},
   "outputs": [
    {
     "name": "stdout",
     "output_type": "stream",
     "text": [
      "0\n",
      "1\n",
      "1\n",
      "2\n",
      "3\n",
      "5\n",
      "8\n",
      "13\n",
      "21\n",
      "34\n"
     ]
    }
   ],
   "source": [
    "def fibonacci(n):\n",
    "    if n<=1:\n",
    "        return n\n",
    "    else:\n",
    "        return fibonacci(n-1) + fibonacci(n-2)\n",
    "for i in range(10):\n",
    "    print(fibonacci(i))"
   ]
  },
  {
   "cell_type": "code",
   "execution_count": 129,
   "id": "b98e7266-8cd5-4a01-8d83-66b1142393b0",
   "metadata": {},
   "outputs": [
    {
     "name": "stdout",
     "output_type": "stream",
     "text": [
      "(3+4j)\n"
     ]
    }
   ],
   "source": [
    "complex_list=[3,4]\n",
    "complex(*complex_list)\n",
    "\n",
    "complex_dict={'real':3,'imag':4}\n",
    "complex(**complex_dict)\n",
    "print(complex(**complex_dict))"
   ]
  },
  {
   "cell_type": "code",
   "execution_count": 137,
   "id": "d71547f0-a834-4b0e-869e-2909d121140a",
   "metadata": {},
   "outputs": [
    {
     "name": "stdout",
     "output_type": "stream",
     "text": [
      "(1, 2, 3, 4)\n",
      "24\n",
      "(1, 2, 3, 4, 5, 6, 7)\n",
      "5040\n"
     ]
    }
   ],
   "source": [
    "def multiply_all(*args):\n",
    "    result=1\n",
    "    print(args)\n",
    "    for num_idx in args:\n",
    "        result *= num_idx\n",
    "    return result\n",
    "\n",
    "print(multiply_all(1,2,3,4))\n",
    "print(multiply_all(1,2,3,4,5,6,7))"
   ]
  },
  {
   "cell_type": "code",
   "execution_count": 143,
   "id": "1d07916e-67ab-4c59-a2a5-89d836f09611",
   "metadata": {},
   "outputs": [
    {
     "name": "stdout",
     "output_type": "stream",
     "text": [
      "<class 'dict'>\n",
      "The value of A is 1\n",
      "The value of B is 2\n",
      "The value of C is 3\n",
      "6\n",
      "<class 'dict'>\n",
      "The value of A is 1\n",
      "The value of B is 2\n",
      "The value of C is 3\n",
      "The value of D is 4\n",
      "24\n"
     ]
    }
   ],
   "source": [
    "def multiply_all_2(**kwargs):\n",
    "    result=1\n",
    "    print(type(kwargs))\n",
    "    for key,value in kwargs.items():\n",
    "        print(\"The value of {} is {}\" .format(key,value))\n",
    "        result *= value\n",
    "    return result\n",
    "\n",
    "print(multiply_all_2(A=1,B=2,C=3))\n",
    "print(multiply_all_2(A=1,B=2,C=3,D=4))"
   ]
  },
  {
   "cell_type": "code",
   "execution_count": 20,
   "id": "25d52291-4057-4bda-9c2b-94e248ecac93",
   "metadata": {},
   "outputs": [
    {
     "name": "stdout",
     "output_type": "stream",
     "text": [
      "None\n"
     ]
    }
   ],
   "source": [
    "import statistics\n",
    "#混合*args,**kwargs\n",
    "def calc_stats(operation,*args,**kwargs):\n",
    "    result=0\n",
    "    #计算标准差\n",
    "    if operation==\"stdev\":\n",
    "        #总体标准差\n",
    "        if \"TYPE\" in kwargs and kwargs[\"TYPE\"]=='population':\n",
    "            result = statistics.pstdev(args)\n",
    "        #样本标准差\n",
    "        elif \"TYPE\" in kwargs and kwargs[\"TYPE\"]=='sample':\n",
    "            result = statistics.stdev(args)\n",
    "        else:\n",
    "            raise ValueError('TYPE,either population or sample')\n",
    "    #计算方差\n",
    "    elif operation == \"var\":\n",
    "        #总体方差\n",
    "        if \"TYPE\" in kwargs and kwargs[\"TYPE\"] == 'population':\n",
    "            result = statistics.pvariance(args)\n",
    "        #样本方差\n",
    "        elif \"TYPE\" in kwargs and kwargs[\"TYPE\"] == 'sample':\n",
    "            result = statistics.variance(args)\n",
    "        else:\n",
    "            raise ValueError('TYPE , either population or sample')\n",
    "    else:\n",
    "        print(\"Unsupported operation\")\n",
    "        return None\n",
    "    #保留小数位\n",
    "    if \"ROUND\" in kwargs:\n",
    "        result = round(result,kwargs[\"ROUND\"])\n",
    "    return result\n",
    "\n",
    "#计算总体标准差\n",
    "print(calc_stats(\"stdev\",1,2,3,4,5,6,\n",
    "           TYPE = 'population',ROUND = 3))\n",
    "#计算样本标准差\n",
    "a=calc_stats(\"stdev\",1,2,3,4,5,6,TYPE='sample')\n",
    "#计算总体方差\n",
    "calc_stats(\"var\",1,2,3,4,5,6,\n",
    "           TYPE = 'population',ROUND=4)\n",
    "#计算样本方差\n",
    "calc_stats(\"var\",1,2,3,4,5,6,TYPE='sample')\n",
    "    "
   ]
  },
  {
   "cell_type": "code",
   "execution_count": null,
   "id": "395bf379-f797-426e-91ef-6c911b78a3f7",
   "metadata": {},
   "outputs": [],
   "source": []
  }
 ],
 "metadata": {
  "kernelspec": {
   "display_name": "Python [conda env:base] *",
   "language": "python",
   "name": "conda-base-py"
  },
  "language_info": {
   "codemirror_mode": {
    "name": "ipython",
    "version": 3
   },
   "file_extension": ".py",
   "mimetype": "text/x-python",
   "name": "python",
   "nbconvert_exporter": "python",
   "pygments_lexer": "ipython3",
   "version": "3.12.7"
  }
 },
 "nbformat": 4,
 "nbformat_minor": 5
}
