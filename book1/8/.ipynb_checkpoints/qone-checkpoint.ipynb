{
 "cells": [
  {
   "cell_type": "code",
   "execution_count": 5,
   "id": "fe185b8d-df16-48df-9be8-741b42d9f353",
   "metadata": {},
   "outputs": [],
   "source": [
    "def create_zeros_matrix(rows,cols):\n",
    "    matrix=[]\n",
    "    for _ in range(rows):\n",
    "        row_idx=[0]*cols\n",
    "        matrix.append(row_idx)\n",
    "    return matrix"
   ]
  },
  {
   "cell_type": "code",
   "execution_count": 8,
   "id": "0c3a6366-cdcc-462f-ac8e-6d0392b49ff5",
   "metadata": {},
   "outputs": [],
   "source": [
    "def identity_matrix(size):\n",
    "    matrix=[]\n",
    "    for i in range(size):\n",
    "        row=[0]*size\n",
    "        row[i]=1\n",
    "        matrix.append(row)\n",
    "    return matrix"
   ]
  },
  {
   "cell_type": "code",
   "execution_count": 11,
   "id": "40c42292-4bb4-49de-8f39-ae463101d907",
   "metadata": {},
   "outputs": [],
   "source": [
    "def diagonal_matrix(values):\n",
    "    size=len(values);matrix=[]\n",
    "    for i in range(size):\n",
    "        row=[0]*size\n",
    "        matrix.append(row)\n",
    "        matrix[i][i]=values[i]\n",
    "    return matrix"
   ]
  },
  {
   "cell_type": "code",
   "execution_count": 14,
   "id": "d78a399d-38c6-4a6b-8a02-fdad8b4693d0",
   "metadata": {},
   "outputs": [],
   "source": [
    "def extract_main_diagonal(matrix):\n",
    "    rows=len(matrix);cols=len(matrix[0])\n",
    "    size=min(rows,cols)\n",
    "    diagonal=[matrix[i][i] for i in range(size)]\n",
    "    return diagonal"
   ]
  },
  {
   "cell_type": "code",
   "execution_count": 17,
   "id": "2109490d-396d-452b-bc27-c2d63038e98b",
   "metadata": {},
   "outputs": [],
   "source": [
    "def trace(matrix):\n",
    "    rows=len(matrix)\n",
    "    if rows != cols:\n",
    "        raise ValueError(\"Matrix is not square\")\n",
    "    diagonal_sum= sum(matrix[i][i] for i in range(rows))\n",
    "    return diagonal_sum"
   ]
  },
  {
   "cell_type": "code",
   "execution_count": 21,
   "id": "847cb667-e7e6-4b9e-b5ac-ee0005c59207",
   "metadata": {},
   "outputs": [],
   "source": [
    "def is_symmetric(matrix):\n",
    "    rows=len(matrix)\n",
    "    cols=len(matrix[0])\n",
    "    #判断是否为方阵\n",
    "    if rows!= cols:\n",
    "        return Flase\n",
    "    #判断是否对称\n",
    "    for i in range(rows):\n",
    "        for j in range(cols):\n",
    "            if matrix[i][j] != matrix[j][i]:\n",
    "                return False\n",
    "    return True"
   ]
  },
  {
   "cell_type": "code",
   "execution_count": 24,
   "id": "5a8b6065-8947-439d-a3d4-941a29eb2d91",
   "metadata": {},
   "outputs": [],
   "source": [
    "def is_symmetric_2(matrix):\n",
    "    rows=len(matrix)\n",
    "    cols=len(matrix[0])\n",
    "    if rows != cols:\n",
    "        return False\n",
    "\n",
    "    tranposed=[[(matrix[j][i])\n",
    "                for j in range(rows)]\n",
    "                for i in range(rows)]\n",
    "    if(matrix == tranposed):\n",
    "        return True\n",
    "    return False"
   ]
  },
  {
   "cell_type": "code",
   "execution_count": 27,
   "id": "0da26a10-3569-4f3a-92c5-bf0491d099a2",
   "metadata": {},
   "outputs": [],
   "source": [
    "def determinant_2x2(matrix):\n",
    "    if len(matrix)!=2 or len(matrix[0])!=2:\n",
    "        raise ValueError(\"Mtrix must be 2x2\")\n",
    "    a=matrix[0][0]\n",
    "    b=matrix[0][1]\n",
    "    c=matrix[1][0]\n",
    "    d=matrix[1][1]\n",
    "    det=a*d-b*c\n",
    "    return det"
   ]
  },
  {
   "cell_type": "code",
   "execution_count": 30,
   "id": "1b3778a0-95e1-47cf-8ac6-ba30b7cfbb44",
   "metadata": {},
   "outputs": [],
   "source": [
    "def inverse_2x2(matrix):\n",
    "    if len(matrix)!=2 or len(matrix[0])!=2:\n",
    "        raise ValueError(\"Matrix must be 2x2\")\n",
    "\n",
    "    a=matrix[0][0]\n",
    "    b=matrix[0][1]\n",
    "    c=matrix[1][0]\n",
    "    d=matrix[1][1]\n",
    "\n",
    "    det = a*d - b*c\n",
    "    if det ==0:\n",
    "        raise ValueError(\"Matrix is not invertible\")\n",
    "\n",
    "    inv_det=1/det\n",
    "    inv_matrix=[[d*inv_det,-b*inv_det],\n",
    "                [-c*inv_det,a*inv_det]]\n",
    "\n",
    "    return inv_matrix"
   ]
  },
  {
   "cell_type": "code",
   "execution_count": null,
   "id": "42245411-b0a2-4dc6-af64-fd565bd8c623",
   "metadata": {},
   "outputs": [],
   "source": []
  }
 ],
 "metadata": {
  "kernelspec": {
   "display_name": "Python [conda env:base] *",
   "language": "python",
   "name": "conda-base-py"
  },
  "language_info": {
   "codemirror_mode": {
    "name": "ipython",
    "version": 3
   },
   "file_extension": ".py",
   "mimetype": "text/x-python",
   "name": "python",
   "nbconvert_exporter": "python",
   "pygments_lexer": "ipython3",
   "version": "3.12.7"
  }
 },
 "nbformat": 4,
 "nbformat_minor": 5
}
