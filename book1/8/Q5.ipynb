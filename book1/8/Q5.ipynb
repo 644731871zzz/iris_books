{
 "cells": [
  {
   "cell_type": "code",
   "execution_count": 10,
   "id": "c66b9c86-b3a9-4b67-98d3-947ec48c95d5",
   "metadata": {},
   "outputs": [
    {
     "name": "stdout",
     "output_type": "stream",
     "text": [
      "slope:0.43401029299726723\n",
      "intercept:1.1703714563532088\n"
     ]
    }
   ],
   "source": [
    "import statistics\n",
    "import random\n",
    "\n",
    "num=50\n",
    "random.seed(0)\n",
    "x_data=[random.uniform(0,10) for _ in range(num)]\n",
    "noise=[random.gauss(0,1) for _ in range(num)]\n",
    "y_data=[0.5*x_data[idx] +1+ noise[idx]\n",
    "        for idx in range(num)]\n",
    "\n",
    "#均值\n",
    "x_mean=statistics.mean(x_data)\n",
    "y_mean=statistics.mean(y_data)\n",
    "x_variance=statistics.variance(x_data) #方差\n",
    "x_std=x_variance ** 0.5 #标准差\n",
    "correlation_xy=statistics.correlation(x_data,y_data)\n",
    "slope=correlation_xy * (statistics.stdev(y_data)/x_std)\n",
    "intercept=y_mean-slope*x_mean\n",
    "\n",
    "print(f'slope:{slope}')\n",
    "print(f'intercept:{intercept}')"
   ]
  },
  {
   "cell_type": "code",
   "execution_count": null,
   "id": "e60c4ba1-269a-453e-a8c0-13f624b9ac0f",
   "metadata": {},
   "outputs": [],
   "source": []
  }
 ],
 "metadata": {
  "kernelspec": {
   "display_name": "Python [conda env:base] *",
   "language": "python",
   "name": "conda-base-py"
  },
  "language_info": {
   "codemirror_mode": {
    "name": "ipython",
    "version": 3
   },
   "file_extension": ".py",
   "mimetype": "text/x-python",
   "name": "python",
   "nbconvert_exporter": "python",
   "pygments_lexer": "ipython3",
   "version": "3.12.7"
  }
 },
 "nbformat": 4,
 "nbformat_minor": 5
}
