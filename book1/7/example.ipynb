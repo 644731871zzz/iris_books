{
 "cells": [
  {
   "cell_type": "code",
   "execution_count": 11,
   "id": "89eda2f6-d552-4e62-8838-9e0417a547b3",
   "metadata": {},
   "outputs": [
    {
     "name": "stdin",
     "output_type": "stream",
     "text": [
      "输入一个数值 300\n"
     ]
    },
    {
     "name": "stdout",
     "output_type": "stream",
     "text": [
      "数值不在0~100之中\n"
     ]
    }
   ],
   "source": [
    "value=input(\"输入一个数值\")\n",
    "\n",
    "if value.isdigit():\n",
    "    number=int(value)\n",
    "    if 0<= number <=100:\n",
    "        if number<60:\n",
    "            print(\"不及格\")\n",
    "        else:\n",
    "            print(\"及格\")\n",
    "    else:\n",
    "        print(\"数值不在0~100之中\")\n",
    "else:\n",
    "    print(\"输入不是数值\")\n"
   ]
  },
  {
   "cell_type": "code",
   "execution_count": 15,
   "id": "087c70ac-c77f-4cb8-a2c9-9e034941fd66",
   "metadata": {},
   "outputs": [
    {
     "name": "stdin",
     "output_type": "stream",
     "text": [
      "输入一个整数 1\n"
     ]
    },
    {
     "name": "stdout",
     "output_type": "stream",
     "text": [
      "num is positive\n"
     ]
    }
   ],
   "source": [
    "num=input('输入一个整数')\n",
    "num=int(num)\n",
    "if num>0:\n",
    "    print(\"num is positive\")\n",
    "elif num<0:\n",
    "    print(\"num is negative\")\n",
    "else:\n",
    "    print(\"num is zero\")"
   ]
  },
  {
   "cell_type": "code",
   "execution_count": 19,
   "id": "2e2e9e40-10f0-40f0-98cc-cd2eb4e6edc0",
   "metadata": {},
   "outputs": [
    {
     "name": "stdout",
     "output_type": "stream",
     "text": [
      "1\n",
      "2\n"
     ]
    }
   ],
   "source": [
    "for i in range(1,6):\n",
    "    if i==3:\n",
    "        break\n",
    "    print(i)"
   ]
  },
  {
   "cell_type": "code",
   "execution_count": 21,
   "id": "ef6a4bb6-975e-4a37-941e-0d2d49f18339",
   "metadata": {},
   "outputs": [
    {
     "name": "stdout",
     "output_type": "stream",
     "text": [
      "1\n",
      "2\n",
      "4\n",
      "5\n"
     ]
    }
   ],
   "source": [
    "for i in range(1,6):\n",
    "    if i==3:\n",
    "        continue\n",
    "    print(i)"
   ]
  },
  {
   "cell_type": "code",
   "execution_count": 23,
   "id": "7ff6e27b-1d7c-41de-aae7-be82bba3158a",
   "metadata": {},
   "outputs": [
    {
     "name": "stdout",
     "output_type": "stream",
     "text": [
      "1\n",
      "2\n",
      "3\n",
      "4\n",
      "5\n"
     ]
    }
   ],
   "source": [
    "for i in range(1,6):\n",
    "    pass\n",
    "    print(i)"
   ]
  },
  {
   "cell_type": "code",
   "execution_count": 25,
   "id": "aff2ed38-64b1-43ac-b567-dcdb1fe6a288",
   "metadata": {},
   "outputs": [
    {
     "name": "stdout",
     "output_type": "stream",
     "text": [
      "向量内积: 80\n"
     ]
    }
   ],
   "source": [
    "a=[1,2,3,4,5]\n",
    "b=[6,7,8,9,0]\n",
    "\n",
    "dot_product=0\n",
    "\n",
    "for i in range(len(a)):\n",
    "    dot_product+=a[i]*b[i]\n",
    "\n",
    "print(\"向量内积:\",dot_product)"
   ]
  },
  {
   "cell_type": "code",
   "execution_count": 31,
   "id": "0bdff970-ad04-4095-9f7e-7a37480a6ba3",
   "metadata": {},
   "outputs": [
    {
     "name": "stdout",
     "output_type": "stream",
     "text": [
      "0\n",
      "1\n",
      "2\n",
      "3\n",
      "4\n",
      "10\n",
      "11\n",
      "12\n",
      "13\n",
      "14\n",
      "15\n",
      "16\n",
      "17\n",
      "18\n",
      "19\n",
      "20\n",
      "1\n",
      "3\n",
      "5\n",
      "7\n",
      "9\n",
      "10\n",
      "9\n",
      "8\n",
      "7\n",
      "6\n",
      "5\n",
      "4\n",
      "3\n",
      "2\n",
      "1\n"
     ]
    },
    {
     "data": {
      "text/plain": [
       "[10, 9, 8, 7, 6, 5, 4, 3, 2, 1]"
      ]
     },
     "execution_count": 31,
     "metadata": {},
     "output_type": "execute_result"
    }
   ],
   "source": [
    "for i in range(4+1):\n",
    "    print(i)\n",
    "\n",
    "for i in range(10,20+1):\n",
    "    print(i)\n",
    "\n",
    "for i in range(1,10+1,2):\n",
    "    print(i)\n",
    "\n",
    "for i in range(10,1-1,-1):\n",
    "    print(i)\n",
    "\n",
    "list(range(10,1-1,-1))"
   ]
  },
  {
   "cell_type": "code",
   "execution_count": 33,
   "id": "73413324-d911-446f-acc7-ec0f14a63497",
   "metadata": {},
   "outputs": [
    {
     "name": "stdout",
     "output_type": "stream",
     "text": [
      "0 apple\n",
      "1 banana\n",
      "2 cherry\n"
     ]
    }
   ],
   "source": [
    "fruits=['apple','banana','cherry']\n",
    "\n",
    "for index,fruit in enumerate(fruits):\n",
    "    print(index,fruit)"
   ]
  },
  {
   "cell_type": "code",
   "execution_count": 37,
   "id": "3f53ba7b-c2b7-4447-8905-edda51aaed28",
   "metadata": {},
   "outputs": [
    {
     "name": "stdout",
     "output_type": "stream",
     "text": [
      "1 apple\n",
      "2 banana\n",
      "3 cherry\n"
     ]
    }
   ],
   "source": [
    "fruits=['apple','banana','cherry']\n",
    "\n",
    "for index,fruit in enumerate(fruits,1):\n",
    "    print(index,fruit)"
   ]
  },
  {
   "cell_type": "code",
   "execution_count": 49,
   "id": "1e496834-7c86-401a-a546-67ad89a3bf61",
   "metadata": {},
   "outputs": [
    {
     "name": "stdout",
     "output_type": "stream",
     "text": [
      "Alice 80\n",
      "Bob 90\n",
      "Charlie 75\n",
      "('Alice', 80)\n",
      "('Bob', 90)\n",
      "('Charlie', 75)\n",
      "('qq', None)\n",
      "('a', None)\n"
     ]
    }
   ],
   "source": [
    "import itertools\n",
    "\n",
    "names=['Alice','Bob','Charlie','qq','a']\n",
    "scores=[80,90,75]\n",
    "\n",
    "for name,score in zip(names,scores):\n",
    "    print(name,score)\n",
    "\n",
    "for i in itertools.zip_longest(names,scores):\n",
    "    print(i)"
   ]
  },
  {
   "cell_type": "code",
   "execution_count": 51,
   "id": "b06d8d61-d0b6-4d4f-8d13-8a10a8130661",
   "metadata": {},
   "outputs": [
    {
     "name": "stdout",
     "output_type": "stream",
     "text": [
      "80\n"
     ]
    }
   ],
   "source": [
    "a=[1,2,3,4,5]\n",
    "b=[6,7,8,9,0]\n",
    "\n",
    "dot_product=0\n",
    "\n",
    "for a_i,b_i in zip(a,b):\n",
    "    dot_product+=(a_i*b_i)\n",
    "\n",
    "print(dot_product)"
   ]
  },
  {
   "cell_type": "code",
   "execution_count": 53,
   "id": "9f69a33d-48e1-47ce-869b-209d85feaad2",
   "metadata": {},
   "outputs": [
    {
     "name": "stdout",
     "output_type": "stream",
     "text": [
      "X\n",
      "[[0, 1, 2, 3, 4, 5], [0, 1, 2, 3, 4, 5], [0, 1, 2, 3, 4, 5], [0, 1, 2, 3, 4, 5]]\n",
      "Y\n",
      "[[0, 0, 0, 0, 0, 0], [1, 1, 1, 1, 1, 1], [2, 2, 2, 2, 2, 2], [3, 3, 3, 3, 3, 3]]\n"
     ]
    }
   ],
   "source": [
    "def custom_meshgrid(x,y):\n",
    "\n",
    "    num_x=len(x);num_y=len(y)\n",
    "    X=[];Y=[]\n",
    "\n",
    "    for i in range(num_y):\n",
    "        X_row=[];Y_row=[]\n",
    "        for j in range(num_x):\n",
    "            X_row.append(x[j])\n",
    "            Y_row.append(y[i])\n",
    "        X.append(X_row);Y.append(Y_row)\n",
    "    return X,Y\n",
    "\n",
    "#示例\n",
    "x=[0,1,2,3,4,5]\n",
    "y=[0,1,2,3]\n",
    "\n",
    "X,Y=custom_meshgrid(x,y)\n",
    "print(\"X\");print(X)\n",
    "print(\"Y\");print(Y)"
   ]
  },
  {
   "cell_type": "code",
   "execution_count": 57,
   "id": "017f666c-ae6d-435d-a831-56beda2f63a5",
   "metadata": {},
   "outputs": [
    {
     "name": "stdout",
     "output_type": "stream",
     "text": [
      "[1010, 404]\n",
      "[2424, 1010]\n",
      "[3838, 1616]\n"
     ]
    }
   ],
   "source": [
    "A=[[1,2,10,20],\n",
    "   [3,4,30,40],\n",
    "   [5,6,50,60]]\n",
    "\n",
    "B=[[4,2],\n",
    "   [3,1],\n",
    "   [40,20],\n",
    "   [30,10]]\n",
    "#定义全0矩阵C用于存储结果\n",
    "C=[[0,0],\n",
    "   [0,0],\n",
    "   [0,0]]\n",
    "\n",
    "#矩阵乘法\n",
    "#遍历A的行\n",
    "\n",
    "for i in range(len(A)):#给出A的行数\n",
    "    for j in range(len(B[0])):#给出了B的列数\n",
    "        #消除k所在维度 A行与B列相乘取内积(压缩)\n",
    "        for k in range(len(B)):#取出b的行数,因为a列与b行相同所以需要乘以4次\n",
    "            #先取出数列中的对应数列 然后取出数列中的值进行多次循环\n",
    "            C[i][j]+=A[i][k]*B[k][j]\n",
    "            #完成一次求和\n",
    "\n",
    "for row in C:\n",
    "    print(row)"
   ]
  },
  {
   "cell_type": "code",
   "execution_count": 61,
   "id": "16437cbc-6a83-4805-a5c7-a3659bf05fbc",
   "metadata": {},
   "outputs": [
    {
     "name": "stdout",
     "output_type": "stream",
     "text": [
      "[1010, 404]\n",
      "[2424, 1010]\n",
      "[3838, 1616]\n"
     ]
    }
   ],
   "source": [
    "A=[[1,2,10,20],\n",
    "   [3,4,30,40],\n",
    "   [5,6,50,60]]\n",
    "\n",
    "B=[[4,2],\n",
    "   [3,1],\n",
    "   [40,20],\n",
    "   [30,10]]\n",
    "#定义全0矩阵C用于存储结果\n",
    "C=[[0,0],\n",
    "   [0,0],\n",
    "   [0,0]]\n",
    "\n",
    "#矩阵乘法\n",
    "#遍历A的行\n",
    "\n",
    "for j in range(len(B[0])):#给出B的列数\n",
    "    for i in range(len(A)):#给出了A的行数\n",
    "        #消除k所在维度 A行与B列相乘取内积(压缩)\n",
    "        for k in range(len(B)):\n",
    "            #先取出数列中的对应数列 \n",
    "            C[i][j]+=A[i][k]*B[k][j]\n",
    "            #完成一次求和\n",
    "\n",
    "for row in C:\n",
    "    print(row)"
   ]
  },
  {
   "cell_type": "code",
   "execution_count": 69,
   "id": "6db798eb-01df-4aeb-be3b-05baceb0a599",
   "metadata": {},
   "outputs": [
    {
     "name": "stdout",
     "output_type": "stream",
     "text": [
      "80\n",
      "80\n"
     ]
    }
   ],
   "source": [
    "import numpy as np\n",
    "a=np.array([1,2,3,4,5])\n",
    "b=np.array([6,7,8,9,0])\n",
    "\n",
    "#计算向量内积\n",
    "dot_product=np.dot(a,b)\n",
    "\n",
    "c=a@b\n",
    "print(dot_product)\n",
    "print(c)"
   ]
  },
  {
   "cell_type": "code",
   "execution_count": 65,
   "id": "9d4b9b8a-2fab-4b30-97a5-cc76bb2e55ad",
   "metadata": {},
   "outputs": [
    {
     "name": "stdout",
     "output_type": "stream",
     "text": [
      "[[ 505 1111]\n",
      " [1111 2525]]\n",
      "[[  10   14  100  140]\n",
      " [  14   20  140  200]\n",
      " [ 100  140 1000 1400]\n",
      " [ 140  200 1400 2000]]\n"
     ]
    }
   ],
   "source": [
    "import numpy as np\n",
    "\n",
    "#定义矩阵A和B\n",
    "A=np.array([[1,2,10,20],\n",
    "            [3,4,30,40]])\n",
    "B=np.array([[1,3],\n",
    "            [2,4],\n",
    "            [10,30],\n",
    "            [20,40]])\n",
    "\n",
    "C=A@B;print(C)\n",
    "D=B@A;print(D)"
   ]
  },
  {
   "cell_type": "code",
   "execution_count": 1,
   "id": "4d0466a6-cfb8-4894-81d9-3ed6a3f09116",
   "metadata": {},
   "outputs": [
    {
     "name": "stdout",
     "output_type": "stream",
     "text": [
      "--- 0.011200189590454102 sesonds ---\n",
      "--- 3.787402868270874 seconds ---\n",
      "[[ True  True  True ...  True  True  True]\n",
      " [ True  True  True ...  True  True  True]\n",
      " [ True  True  True ...  True  True  True]\n",
      " ...\n",
      " [ True  True  True ...  True  True  True]\n",
      " [ True  True  True ...  True  True  True]\n",
      " [ True  True  True ...  True  True  True]]\n"
     ]
    }
   ],
   "source": [
    "from numpy.random import randint\n",
    "num=200\n",
    "\n",
    "#num*num大小方阵0~9的随机数 \n",
    "A=randint(0,10,size=(num,num))\n",
    "B=randint(0,10,size=(num,num))\n",
    "\n",
    "#用Numpy计算矩阵乘法\n",
    "import time\n",
    "start_time = time.time()#开始计时\n",
    "C_1=A@B\n",
    "stop_time=time.time()#结束计时\n",
    "time_used=stop_time-start_time\n",
    "print(\"--- %s sesonds ---\"%time_used)\n",
    "\n",
    "#num*num 大小的全0方阵\n",
    "import numpy as np\n",
    "C_2=np.zeros((num,num))\n",
    "\n",
    "#手动编程计算\n",
    "start_time=time.time()\n",
    "\n",
    "for i in range(len(A)):\n",
    "    for j in range(len(B[0])):\n",
    "        for k in range(len(B)):\n",
    "            C_2[i][j]+=A[i][k]*B[k][j]\n",
    "\n",
    "stop_time=time.time()\n",
    "time_used=stop_time - start_time\n",
    "print(\"--- %s seconds ---\"%time_used)\n",
    "\n",
    "print(C_1==C_2)"
   ]
  },
  {
   "cell_type": "code",
   "execution_count": 3,
   "id": "d063a1b5-e88a-4129-8620-5d2406bfe1e3",
   "metadata": {},
   "outputs": [
    {
     "name": "stdout",
     "output_type": "stream",
     "text": [
      "[2, 4, 6, 8, 10]\n"
     ]
    }
   ],
   "source": [
    "even_number=[num for num in range(1,11) if num %2==0]\n",
    "\n",
    "print(even_number)"
   ]
  },
  {
   "cell_type": "code",
   "execution_count": 7,
   "id": "26fae098-b4d4-42d5-a344-d4e301868d20",
   "metadata": {},
   "outputs": [
    {
     "name": "stdout",
     "output_type": "stream",
     "text": [
      "[[1, 2, 3], [2, 4, 6], [3, 6, 9]]\n"
     ]
    }
   ],
   "source": [
    "matrix=[[i*j for j in range(1,4)]\n",
    "        for i in range(1,4)]\n",
    "print(matrix)"
   ]
  },
  {
   "cell_type": "code",
   "execution_count": 17,
   "id": "765bb863-2c45-4724-8899-ca38defc6bb1",
   "metadata": {},
   "outputs": [
    {
     "name": "stdout",
     "output_type": "stream",
     "text": [
      "[[0, 0, 0], [0, 0, 0], [0, 0, 0]]\n"
     ]
    }
   ],
   "source": [
    "matrix=[[0 for j in range(1,4)] for i in range(1,4)]\n",
    "print(matrix)"
   ]
  },
  {
   "cell_type": "code",
   "execution_count": 45,
   "id": "229cbaba-c2a6-4321-802b-7b5caa1b0f60",
   "metadata": {},
   "outputs": [
    {
     "name": "stdout",
     "output_type": "stream",
     "text": [
      "[0.0, 1.1111111111111112, 2.2222222222222223, 3.3333333333333335, 4.444444444444445, 5.555555555555555, 6.666666666666667, 7.777777777777779, 8.88888888888889, 10.0]\n"
     ]
    }
   ],
   "source": [
    "#模仿numpy.linspace()函数\n",
    "def linspace(start,stop,num=50,endpoint=True):\n",
    "    if num<2:\n",
    "        #报错\n",
    "        raise ValueError(\"Number of samples must be at least 2\")\n",
    "    #是否包含右侧端点\n",
    "    if start==stop:\n",
    "        raise ValueError(\"start can't equal stop\")\n",
    "    if endpoint:\n",
    "        step=(stop-start)/(num-1)\n",
    "        return[start+i*step for i in range(num)]\n",
    "    else:\n",
    "        step=(stop-start)/num\n",
    "        return[start+i*step for i in range(num)]\n",
    "\n",
    "start=0\n",
    "stop=10\n",
    "num=10\n",
    "endpoint=1\n",
    "values=linspace(start,stop,num,endpoint)\n",
    "        \n",
    "print(values)     "
   ]
  },
  {
   "cell_type": "code",
   "execution_count": 49,
   "id": "446203f4-5562-4ab4-bbcc-80a3ff5d6dd9",
   "metadata": {},
   "outputs": [
    {
     "name": "stdout",
     "output_type": "stream",
     "text": [
      "[[1, 4], [2, 5], [3, 6]]\n"
     ]
    }
   ],
   "source": [
    "def transpose(matrix):\n",
    "    transposed=[]\n",
    "    rows=len(matrix)\n",
    "    cols=len(matrix[0])\n",
    "\n",
    "    for j in range(cols):\n",
    "        transposed_row=[matrix[i][j]\n",
    "                        for i in range(rows)]\n",
    "        transposed.append(transposed_row)\n",
    "    return transposed\n",
    "\n",
    "A=[[1,2,3],\n",
    "   [4,5,6]]\n",
    "B=transpose(A)\n",
    "print(B)"
   ]
  },
  {
   "cell_type": "code",
   "execution_count": 57,
   "id": "4601f70a-0cb7-40d5-80ea-ec097958b967",
   "metadata": {},
   "outputs": [
    {
     "name": "stdout",
     "output_type": "stream",
     "text": [
      "[[1, 4], [2, 5]]\n"
     ]
    }
   ],
   "source": [
    "def transpose_2(matrix):\n",
    "    transposed=[]\n",
    "    rows=len(matrix)\n",
    "    cols=len(matrix)\n",
    "\n",
    "    transposed=[[matrix[j][i]\n",
    "                for j in range(rows)]\n",
    "                for i in range(cols)]\n",
    "    return transposed\n",
    "\n",
    "A=[[1,2,3],\n",
    "   [4,5,6]]\n",
    "\n",
    "B=transpose_2(A)\n",
    "print(B)"
   ]
  },
  {
   "cell_type": "code",
   "execution_count": 65,
   "id": "13b07600-7b32-4083-a69d-9653706f9da1",
   "metadata": {},
   "outputs": [
    {
     "name": "stdout",
     "output_type": "stream",
     "text": [
      "[[2, 6], [12, 20]]\n"
     ]
    }
   ],
   "source": [
    "def hadamard_prod(M1,M2):\n",
    "    if (len(M1) != len(M2) or \n",
    "        len(M1[0]) != len(M2[0])):\n",
    "        raise ValueError(\"Matrices must have the same shape\")\n",
    "\n",
    "    result=[[M1[i][j]*M2[i][j]\n",
    "             for j in range(len(M1[0]))]\n",
    "            for i in range(len(M1))]\n",
    "    return result\n",
    "\n",
    "A=[[1,2],\n",
    "   [3,4]]\n",
    "B=[[2,3],\n",
    "   [4,5]]\n",
    "\n",
    "C=hadamard_prod(A,B)\n",
    "print(C)"
   ]
  },
  {
   "cell_type": "code",
   "execution_count": 67,
   "id": "38fd30e9-9629-429a-8e28-f401915ae597",
   "metadata": {},
   "outputs": [
    {
     "name": "stdout",
     "output_type": "stream",
     "text": [
      "[(1, 'a'), (1, 'b'), (1, 'c'), (2, 'a'), (2, 'b'), (2, 'c'), (3, 'a'), (3, 'b'), (3, 'c'), (4, 'a'), (4, 'b'), (4, 'c')]\n"
     ]
    }
   ],
   "source": [
    "column1=[1,2,3,4]\n",
    "column2=['a','b','c']\n",
    "\n",
    "cartesian_product=[(x,y) for x in column1 for y in column2]\n",
    "print(cartesian_product)"
   ]
  },
  {
   "cell_type": "code",
   "execution_count": 70,
   "id": "b50f37d5-af9c-45e6-93dd-7a34281f9489",
   "metadata": {},
   "outputs": [
    {
     "name": "stdout",
     "output_type": "stream",
     "text": [
      "[(1, 'a'), (2, 'a'), (3, 'a'), (4, 'a')]\n",
      "[(1, 'b'), (2, 'b'), (3, 'b'), (4, 'b')]\n",
      "[(1, 'c'), (2, 'c'), (3, 'c'), (4, 'c')]\n"
     ]
    }
   ],
   "source": [
    "column1=[1,2,3,4]\n",
    "column2=['a','b','c']\n",
    "cartesian_product=[[(x,y) for x in column1] for y in column2]\n",
    "\n",
    "for prod_idx in cartesian_product:\n",
    "    print(prod_idx)"
   ]
  },
  {
   "cell_type": "code",
   "execution_count": 74,
   "id": "bf4f327a-cc7b-4a45-8556-afff5eeffe52",
   "metadata": {},
   "outputs": [
    {
     "name": "stdout",
     "output_type": "stream",
     "text": [
      "[(1, 'a'), (1, 'b'), (1, 'c'), (1, 'd'), (2, 'a'), (2, 'b'), (2, 'c'), (2, 'd'), (3, 'a'), (3, 'b'), (3, 'c'), (3, 'd'), (4, 'a'), (4, 'b'), (4, 'c'), (4, 'd')]\n"
     ]
    }
   ],
   "source": [
    "from itertools import product\n",
    "column1=[1,2,3,4]\n",
    "column2=['a','b','c','d']\n",
    "\n",
    "cartesian_product=list(product(column1,column2))\n",
    "print(cartesian_product)"
   ]
  },
  {
   "cell_type": "code",
   "execution_count": 82,
   "id": "6efdb75e-9661-46b9-8f86-da6391933d14",
   "metadata": {},
   "outputs": [
    {
     "name": "stdout",
     "output_type": "stream",
     "text": [
      "abbccd\n",
      "abcdbc\n",
      "bcabcd\n",
      "bccdab\n",
      "cdabbc\n",
      "cdbcab\n"
     ]
    }
   ],
   "source": [
    "import itertools\n",
    "string=['ab','bc','cd']\n",
    "perms_all= itertools.permutations(string)\n",
    "\n",
    "for perm_idx in perms_all:\n",
    "    print(''.join(perm_idx))"
   ]
  },
  {
   "cell_type": "code",
   "execution_count": 84,
   "id": "7e70825a-df2a-485e-92fb-89866bacad31",
   "metadata": {},
   "outputs": [
    {
     "name": "stdout",
     "output_type": "stream",
     "text": [
      "ab\n",
      "ac\n",
      "ba\n",
      "bc\n",
      "ca\n",
      "cb\n"
     ]
    }
   ],
   "source": [
    "import itertools\n",
    "string='abc'\n",
    "\n",
    "perms_2=itertools.permutations(string,2)\n",
    "\n",
    "for perms_idx in perms_2:\n",
    "    print(''.join(perms_idx))"
   ]
  },
  {
   "cell_type": "code",
   "execution_count": 86,
   "id": "b4c47ec4-204f-4653-8bc1-9df820758093",
   "metadata": {},
   "outputs": [
    {
     "name": "stdout",
     "output_type": "stream",
     "text": [
      "ab\n",
      "ac\n",
      "bc\n"
     ]
    }
   ],
   "source": [
    "import itertools\n",
    "string='abc'\n",
    "combs_2=itertools.combinations(string,2)\n",
    "\n",
    "for combo_idx in combs_2:\n",
    "    print(''.join(combo_idx))"
   ]
  },
  {
   "cell_type": "code",
   "execution_count": 96,
   "id": "51ee655c-de03-495f-bcb8-bd60129a28cc",
   "metadata": {},
   "outputs": [
    {
     "name": "stdout",
     "output_type": "stream",
     "text": [
      "aa\n",
      "ab\n",
      "ac\n",
      "ba\n",
      "bb\n",
      "bc\n",
      "ca\n",
      "cb\n",
      "cc\n"
     ]
    }
   ],
   "source": [
    "import itertools\n",
    "\n",
    "string='abc'\n",
    "elements=list(string)\n",
    "repeat=2\n",
    "\n",
    "permutations=itertools.product(elements,repeat=repeat)\n",
    "\n",
    "for permutation_idx in permutations:\n",
    "    print(''.join(permutation_idx))"
   ]
  },
  {
   "cell_type": "code",
   "execution_count": 100,
   "id": "b52221d2-6de9-46d6-82f0-4f749e09370b",
   "metadata": {},
   "outputs": [
    {
     "name": "stdout",
     "output_type": "stream",
     "text": [
      "aa\n",
      "ab\n",
      "ac\n",
      "bb\n",
      "bc\n",
      "cc\n"
     ]
    }
   ],
   "source": [
    "import itertools\n",
    "string='abc'\n",
    "elements=list(string)\n",
    "length=2\n",
    "combos=itertools.combinations_with_replacement(elements,length)\n",
    "\n",
    "for combination_idx in combos:\n",
    "    print(''.join(combination_idx))"
   ]
  },
  {
   "cell_type": "code",
   "execution_count": null,
   "id": "94b55f07-8eab-4343-97cf-ecd7929879b2",
   "metadata": {},
   "outputs": [],
   "source": []
  }
 ],
 "metadata": {
  "kernelspec": {
   "display_name": "Python [conda env:base] *",
   "language": "python",
   "name": "conda-base-py"
  },
  "language_info": {
   "codemirror_mode": {
    "name": "ipython",
    "version": 3
   },
   "file_extension": ".py",
   "mimetype": "text/x-python",
   "name": "python",
   "nbconvert_exporter": "python",
   "pygments_lexer": "ipython3",
   "version": "3.12.7"
  }
 },
 "nbformat": 4,
 "nbformat_minor": 5
}
