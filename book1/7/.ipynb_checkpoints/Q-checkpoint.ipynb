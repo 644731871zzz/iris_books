{
 "cells": [
  {
   "cell_type": "code",
   "execution_count": 32,
   "id": "617716e8-0211-4327-9919-c24718e61ad9",
   "metadata": {},
   "outputs": [
    {
     "name": "stdout",
     "output_type": "stream",
     "text": [
      "11\n",
      "3\n",
      "14\n"
     ]
    }
   ],
   "source": [
    "#Q1\n",
    "nums=[3,5,3,7,10,11]\n",
    "num_max=nums[0]\n",
    "num_min=nums[0]\n",
    "for num in nums:\n",
    "    if num>num_max:\n",
    "        num_max=num\n",
    "    if num<num_min:\n",
    "        num_min=num\n",
    "\n",
    "print(num_max)\n",
    "print(num_min)\n",
    "print(num_max+num_min)"
   ]
  },
  {
   "cell_type": "code",
   "execution_count": 56,
   "id": "d79766d6-e591-4c3c-86a2-dd8a6610e7f6",
   "metadata": {},
   "outputs": [
    {
     "name": "stdout",
     "output_type": "stream",
     "text": [
      "1\n",
      "3\n",
      "5\n",
      "7\n",
      "9\n"
     ]
    }
   ],
   "source": [
    "#Q2\n",
    "i=1\n",
    "while i<=10:\n",
    "    if i%2!= 0:\n",
    "        print(i)\n",
    "    i+=2"
   ]
  },
  {
   "cell_type": "code",
   "execution_count": 2,
   "id": "0afee1d5-ce80-415d-8143-b4fe3f01bf21",
   "metadata": {},
   "outputs": [
    {
     "name": "stdin",
     "output_type": "stream",
     "text": [
      "pls input a number,i can change this to int type 1\n"
     ]
    },
    {
     "name": "stdout",
     "output_type": "stream",
     "text": [
      "1\n"
     ]
    }
   ],
   "source": [
    "#Q3\n",
    "while True:\n",
    "    try:\n",
    "        i=int(input('pls input a number,i can change this to int type'))\n",
    "        break\n",
    "    except ValueError:\n",
    "        print(\"this str isn't a num\")\n",
    "print(i)\n"
   ]
  },
  {
   "cell_type": "code",
   "execution_count": 46,
   "id": "37e9604e-e1e6-415d-b294-5dbb9efc2d27",
   "metadata": {},
   "outputs": [
    {
     "name": "stdout",
     "output_type": "stream",
     "text": [
      "[2, 3, 5, 7, 11, 13, 17, 19, 23, 29, 31, 37, 41, 43, 47, 53, 59, 61, 67, 71, 73, 79, 83, 89, 97]\n"
     ]
    }
   ],
   "source": [
    "#Q4\n",
    "i=2\n",
    "prime_list=[]\n",
    "while i<101:\n",
    "    for num in range(2,i):\n",
    "        if i%num==0:\n",
    "            break\n",
    "    else:\n",
    "        prime_list.append(i)\n",
    "    i+=1\n",
    "print(prime_list)"
   ]
  },
  {
   "cell_type": "code",
   "execution_count": 56,
   "id": "e060ea3a-fccd-4eea-a4d4-d7c2bac5d62a",
   "metadata": {},
   "outputs": [
    {
     "name": "stdout",
     "output_type": "stream",
     "text": [
      "2500\n"
     ]
    }
   ],
   "source": [
    "#Q5_a\n",
    "i=1\n",
    "a=0\n",
    "while i<=100:\n",
    "    a+=i\n",
    "    i+=2\n",
    "print(a)\n",
    "    "
   ]
  },
  {
   "cell_type": "code",
   "execution_count": 54,
   "id": "9ca87f93-55bf-4341-9a73-452b6832610a",
   "metadata": {},
   "outputs": [
    {
     "name": "stdout",
     "output_type": "stream",
     "text": [
      "2500\n"
     ]
    }
   ],
   "source": [
    "#Q5_b\n",
    "a=0\n",
    "for i in range(1,101,2):\n",
    "    a+=i\n",
    "\n",
    "print(a)"
   ]
  },
  {
   "cell_type": "code",
   "execution_count": 59,
   "id": "aa84ed54-343a-49b4-9822-b9ad92dfe4c8",
   "metadata": {},
   "outputs": [],
   "source": [
    "#Q6,Q7 matrix\n",
    "q_matrix=[[1,2,3],\n",
    "          [4,5,6],\n",
    "          [7,8,9]]"
   ]
  },
  {
   "cell_type": "code",
   "execution_count": 80,
   "id": "335feed8-7dbd-4be0-b7a1-0a8ca2589224",
   "metadata": {},
   "outputs": [
    {
     "ename": "SyntaxError",
     "evalue": "incomplete input (493177825.py, line 14)",
     "output_type": "error",
     "traceback": [
      "\u001b[0;36m  Cell \u001b[0;32mIn[80], line 14\u001b[0;36m\u001b[0m\n\u001b[0;31m    \u001b[0m\n\u001b[0m    ^\u001b[0m\n\u001b[0;31mSyntaxError\u001b[0m\u001b[0;31m:\u001b[0m incomplete input\n"
     ]
    }
   ],
   "source": [
    "#Q6_sum\n",
    "row_sum=0\n",
    "col_sum=0\n",
    "rows_sum=[]\n",
    "cols_sum=[]\n",
    "for i_row in q_matrix:\n",
    "    for i in i_row:\n",
    "        row_sum+=i\n",
    "    rows_sum.append(row_sum)\n",
    "\n",
    "print(rows_sum)\n",
    "\n",
    "for i in range(len(q_matrix[0])):\n",
    "    "
   ]
  },
  {
   "cell_type": "code",
   "execution_count": null,
   "id": "eef622df-ac1a-4294-9e97-77f32b8748f4",
   "metadata": {},
   "outputs": [],
   "source": []
  },
  {
   "cell_type": "code",
   "execution_count": null,
   "id": "57f98ff9-0df5-4686-8128-8e34357a4288",
   "metadata": {},
   "outputs": [],
   "source": []
  }
 ],
 "metadata": {
  "kernelspec": {
   "display_name": "Python [conda env:base] *",
   "language": "python",
   "name": "conda-base-py"
  },
  "language_info": {
   "codemirror_mode": {
    "name": "ipython",
    "version": 3
   },
   "file_extension": ".py",
   "mimetype": "text/x-python",
   "name": "python",
   "nbconvert_exporter": "python",
   "pygments_lexer": "ipython3",
   "version": "3.12.7"
  }
 },
 "nbformat": 4,
 "nbformat_minor": 5
}
