{
 "cells": [
  {
   "cell_type": "code",
   "execution_count": 2,
   "id": "18089816-b98c-421c-8690-792965879a13",
   "metadata": {},
   "outputs": [
    {
     "data": {
      "text/plain": [
       "array([[10, 10, 10, 10],\n",
       "       [10, 10, 10, 10],\n",
       "       [10, 10, 10, 10]])"
      ]
     },
     "execution_count": 2,
     "metadata": {},
     "output_type": "execute_result"
    }
   ],
   "source": [
    "import numpy as np\n",
    "\n",
    "np.full((3,4),10)\n",
    "\n",
    "A=np.empty((3,4))\n",
    "np.full_like(A,10)\n",
    "\n",
    "np.array([[10,10,10,10],\n",
    "          [10,10,10,10],\n",
    "          [10,10,10,10]])"
   ]
  },
  {
   "cell_type": "code",
   "execution_count": null,
   "id": "f3fa7b86-d7f3-427b-a33f-4811e49ddc47",
   "metadata": {},
   "outputs": [],
   "source": []
  }
 ],
 "metadata": {
  "kernelspec": {
   "display_name": "Python [conda env:base] *",
   "language": "python",
   "name": "conda-base-py"
  },
  "language_info": {
   "codemirror_mode": {
    "name": "ipython",
    "version": 3
   },
   "file_extension": ".py",
   "mimetype": "text/x-python",
   "name": "python",
   "nbconvert_exporter": "python",
   "pygments_lexer": "ipython3",
   "version": "3.12.7"
  }
 },
 "nbformat": 4,
 "nbformat_minor": 5
}
