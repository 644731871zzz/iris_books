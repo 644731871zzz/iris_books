{
 "cells": [
  {
   "cell_type": "code",
   "execution_count": 4,
   "id": "358e5d55-7dad-45ed-9561-7badbf0cac84",
   "metadata": {},
   "outputs": [
    {
     "name": "stdout",
     "output_type": "stream",
     "text": [
      "[1 2 3 4]\n",
      "[1. 2. 3. 4.]\n",
      "[[1 2 3]\n",
      " [4 5 6]]\n",
      "[[1 2 3 4]]\n"
     ]
    }
   ],
   "source": [
    "import numpy as np\n",
    "\n",
    "arr1=np.array([1,2,3,4])\n",
    "arr2=np.array([1,2,3,4],dtype=float) #转换数据类型变成浮点型\n",
    "arr3=np.array([(1,2,3),(4,5,6)])#元组将会转变成数列,嵌套数列的形式\n",
    "arr4=np.array([1,2,3,4],ndmin=2)#ndmin表示最小维度,强制转变成二维数组,二维数组中的第一个元素为输入的数列\n",
    "\n",
    "print(arr1)\n",
    "print(arr2)\n",
    "print(arr3)\n",
    "print(arr4)"
   ]
  },
  {
   "cell_type": "code",
   "execution_count": 6,
   "id": "cf86cad8-f70d-4ebf-9de4-46f72426d344",
   "metadata": {},
   "outputs": [],
   "source": [
    "import numpy as np\n",
    "import seaborn as sns\n",
    "import matplotlib.pyplot as plt\n",
    "import math\n",
    "from matplotlib import cm\n",
    "\n",
    "def visualize_2D(array,title,vmax,vmin):\n",
    "\n",
    "    fig_width=math.ceil(array.shape[1]*0.5)\n",
    "    fig_length=math.ceil(array.shape[0]*0.5)\n",
    "\n",
    "    fig,ax=plt.subplots(figsize=(fig_width,fig_length))\n",
    "\n",
    "    sns.heatmap(array,\n",
    "                vmax=vmax,\n",
    "                vmin=vmin,\n",
    "                annot=True,\n",
    "                fmt=\".0f\",\n",
    "                square=True,\n",
    "                cmap='RdYlBu_r',\n",
    "                linewidths=.5,\n",
    "                cbar=False,\n",
    "                yticklabels=False,\n",
    "                xticklabels=False,\n",
    "                ax=ax)"
   ]
  },
  {
   "cell_type": "code",
   "execution_count": null,
   "id": "c990456e-f634-492f-aedd-f57c094e90f1",
   "metadata": {},
   "outputs": [],
   "source": []
  }
 ],
 "metadata": {
  "kernelspec": {
   "display_name": "Python [conda env:base] *",
   "language": "python",
   "name": "conda-base-py"
  },
  "language_info": {
   "codemirror_mode": {
    "name": "ipython",
    "version": 3
   },
   "file_extension": ".py",
   "mimetype": "text/x-python",
   "name": "python",
   "nbconvert_exporter": "python",
   "pygments_lexer": "ipython3",
   "version": "3.12.7"
  }
 },
 "nbformat": 4,
 "nbformat_minor": 5
}
