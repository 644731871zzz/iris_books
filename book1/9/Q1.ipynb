{
 "cells": [
  {
   "cell_type": "code",
   "execution_count": 14,
   "id": "f3910e60-d06f-47b6-9c4e-11b0db265a19",
   "metadata": {},
   "outputs": [
    {
     "name": "stdout",
     "output_type": "stream",
     "text": [
      "12.568\n",
      "19.744328\n"
     ]
    }
   ],
   "source": [
    "import math\n",
    "\n",
    "class Circle:\n",
    "    def __init__(self,radius):\n",
    "        self.radius=radius\n",
    "        self.pi=round(math.pi,3)\n",
    "\n",
    "    def circumference(self):\n",
    "        return self.radius*self.pi*2\n",
    "\n",
    "    def area(self):\n",
    "        return self.radius*self.pi**2\n",
    "\n",
    "circle_2=Circle(2)\n",
    "print(circle_2.circumference())\n",
    "print(circle_2.area())"
   ]
  },
  {
   "cell_type": "code",
   "execution_count": null,
   "id": "5b996a13-a811-410e-b71b-ce38a0b6ad8f",
   "metadata": {},
   "outputs": [],
   "source": []
  }
 ],
 "metadata": {
  "kernelspec": {
   "display_name": "Python [conda env:base] *",
   "language": "python",
   "name": "conda-base-py"
  },
  "language_info": {
   "codemirror_mode": {
    "name": "ipython",
    "version": 3
   },
   "file_extension": ".py",
   "mimetype": "text/x-python",
   "name": "python",
   "nbconvert_exporter": "python",
   "pygments_lexer": "ipython3",
   "version": "3.12.7"
  }
 },
 "nbformat": 4,
 "nbformat_minor": 5
}
