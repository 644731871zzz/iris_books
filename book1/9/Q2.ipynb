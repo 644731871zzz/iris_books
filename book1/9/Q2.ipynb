{
 "cells": [
  {
   "cell_type": "code",
   "execution_count": 32,
   "id": "030b9784-75d4-4387-8e52-6ff6fb0188e8",
   "metadata": {},
   "outputs": [
    {
     "name": "stdout",
     "output_type": "stream",
     "text": [
      "8.8\n",
      "1.8\n",
      "7.0\n",
      "2.5\n"
     ]
    }
   ],
   "source": [
    "import statistics\n",
    "\n",
    "class ListStatistics:\n",
    "    def __init__(self,data):\n",
    "        self.data=data\n",
    "\n",
    "    def list_Maximum(self):\n",
    "        return max(self.data)\n",
    "\n",
    "    def list_Minimum(self):\n",
    "        return min(self.data)\n",
    "\n",
    "    def range(self):\n",
    "        return (max(self.data)-min(self.data))\n",
    "\n",
    "    def dev(self):\n",
    "        return statistics.stdev(self.data)\n",
    "\n",
    "data = [8.8, 1.8, 7.8, 3.8, 2.8, 5.6, 3.9, 6.9]\n",
    "\n",
    "list=ListStatistics(data)\n",
    "print(list.list_Maximum())\n",
    "print(list.list_Minimum())\n",
    "print(round(list.range(),3))\n",
    "print(round(list.dev(),3))"
   ]
  },
  {
   "cell_type": "code",
   "execution_count": null,
   "id": "e3986970-0da7-4adf-b153-3cba82bbd0eb",
   "metadata": {},
   "outputs": [],
   "source": []
  }
 ],
 "metadata": {
  "kernelspec": {
   "display_name": "Python [conda env:base] *",
   "language": "python",
   "name": "conda-base-py"
  },
  "language_info": {
   "codemirror_mode": {
    "name": "ipython",
    "version": 3
   },
   "file_extension": ".py",
   "mimetype": "text/x-python",
   "name": "python",
   "nbconvert_exporter": "python",
   "pygments_lexer": "ipython3",
   "version": "3.12.7"
  }
 },
 "nbformat": 4,
 "nbformat_minor": 5
}
