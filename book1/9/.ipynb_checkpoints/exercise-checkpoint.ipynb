{
 "cells": [
  {
   "cell_type": "code",
   "execution_count": 22,
   "id": "f3bcf864-b337-418f-94a3-7d20a0e14ba4",
   "metadata": {},
   "outputs": [
    {
     "name": "stdout",
     "output_type": "stream",
     "text": [
      "circumference:\n",
      "30\n",
      "area:\n",
      "50\n",
      "5\n",
      "28\n",
      "48\n"
     ]
    }
   ],
   "source": [
    "#definition Rectangle class\n",
    "class Rectangle:\n",
    "    #创建对象并执行初始化\n",
    "    def __init__(self,width,height):\n",
    "        #设置储存传入的宽度和高度参数\n",
    "        self.width = width\n",
    "        self.height = height\n",
    "\n",
    "    #definition circumference\n",
    "    def circumference(self):\n",
    "        #返回周长\n",
    "        return 2*(self.width + self.height)\n",
    "    #definition area\n",
    "    def area(self):\n",
    "        #返回面积\n",
    "        return self.width*self.height\n",
    "\n",
    "#使用\n",
    "rect_5_10=Rectangle(5,10)\n",
    "print('circumference:')\n",
    "print(rect_5_10.circumference())\n",
    "\n",
    "print('area:')\n",
    "print(rect_5_10.area())\n",
    "\n",
    "print(rect_5_10.width)\n",
    "\n",
    "\n",
    "rect_6_8=Rectangle(6,8)\n",
    "print(rect_6_8.circumference())\n",
    "print(rect_6_8.area())"
   ]
  },
  {
   "cell_type": "code",
   "execution_count": null,
   "id": "610d075e-f69b-4fae-9aef-b01988ed36bc",
   "metadata": {},
   "outputs": [],
   "source": [
    "class ListStatistics:\n",
    "    def __init__(self):\n",
    "        self.data=[]\n",
    "\n",
    "    @property\n",
    "    def data(self):\n",
    "        return self._data\n",
    "\n",
    "    @data.setter\n",
    "    def data(self,new_list):\n",
    "        if self._are_all_numeric(new_list):\n",
    "            self._data=new_list\n",
    "        else:\n",
    "            print(\"错误,列表中元素必须全部为数字\")\n",
    "    @classmethod\n",
    "    def _are_all_numeric(cls,input_list):\n",
    "        for element in input_list:\n",
    "            if not isinstance(element,(int,float)):\n",
    "                return False\n",
    "            return True"
   ]
  }
 ],
 "metadata": {
  "kernelspec": {
   "display_name": "Python [conda env:base] *",
   "language": "python",
   "name": "conda-base-py"
  },
  "language_info": {
   "codemirror_mode": {
    "name": "ipython",
    "version": 3
   },
   "file_extension": ".py",
   "mimetype": "text/x-python",
   "name": "python",
   "nbconvert_exporter": "python",
   "pygments_lexer": "ipython3",
   "version": "3.12.7"
  }
 },
 "nbformat": 4,
 "nbformat_minor": 5
}
