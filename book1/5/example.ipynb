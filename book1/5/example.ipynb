{
 "cells": [
  {
   "cell_type": "code",
   "execution_count": 2,
   "id": "1a9aec1b-2329-47f3-af14-3c9952a2b2d0",
   "metadata": {},
   "outputs": [
    {
     "name": "stdout",
     "output_type": "stream",
     "text": [
      "<class 'int'>\n",
      "<class 'float'>\n",
      "<class 'complex'>\n"
     ]
    }
   ],
   "source": [
    "x=88\n",
    "y=-8.88\n",
    "z=8+8j\n",
    "print(type(x))\n",
    "print(type(y))\n",
    "print(type(z))"
   ]
  },
  {
   "cell_type": "code",
   "execution_count": 4,
   "id": "f2e9af60-e01b-451b-b175-b8dfbf90fb0e",
   "metadata": {},
   "outputs": [
    {
     "name": "stdout",
     "output_type": "stream",
     "text": [
      "88\n",
      "8.0\n",
      "(8+0j)\n",
      "88.8\n"
     ]
    }
   ],
   "source": [
    "x=88.8\n",
    "y=8\n",
    "\n",
    "#浮点数>>>整数\n",
    "x_to_int=int(x)\n",
    "print(x_to_int)\n",
    "\n",
    "#整数>>>浮点数\n",
    "y_to_float=float(y)\n",
    "print(y_to_float)\n",
    "\n",
    "#将整数转换为复数\n",
    "y_to_complex=complex(y)\n",
    "print(y_to_complex)\n",
    "\n",
    "#将数字转成字符串\n",
    "x_to_str=str(x)\n",
    "print(x_to_str)"
   ]
  },
  {
   "cell_type": "code",
   "execution_count": 6,
   "id": "a2086cea-7f15-4704-9c54-e02c24f187ee",
   "metadata": {},
   "outputs": [
    {
     "name": "stdout",
     "output_type": "stream",
     "text": [
      "3.141592653589793\n",
      "2.718281828459045\n",
      "1.4142135623730951\n"
     ]
    }
   ],
   "source": [
    "import math\n",
    "print(math.pi)\n",
    "print(math.e)\n",
    "print(math.sqrt(2))"
   ]
  },
  {
   "cell_type": "code",
   "execution_count": 8,
   "id": "e3627e8b-2806-4359-a729-6c831a8fcf08",
   "metadata": {},
   "outputs": [
    {
     "name": "stdout",
     "output_type": "stream",
     "text": [
      "I am learning python 101!\n",
      "Python is fun.matchine learning is fun too\n",
      "Hey,James\n",
      "Python is FunPython is FunPython is Fun\n",
      "123123123\n",
      "123456\n",
      "<class 'str'>\n"
     ]
    }
   ],
   "source": [
    "str1='I am learning python 101!'\n",
    "print(str1)\n",
    "\n",
    "str2=\"Python is fun.matchine learning is fun too\"\n",
    "print(str2)\n",
    "\n",
    "str4='Hey,'+'James'\n",
    "print(str4)\n",
    "\n",
    "str5='Python is Fun'\n",
    "str6=str5*3\n",
    "print(str6)\n",
    "\n",
    "str7='123'\n",
    "str8=str7*3\n",
    "print(str8)\n",
    "\n",
    "str9='456'\n",
    "str10=str7+str9\n",
    "print(str10)\n",
    "print(type(str10))"
   ]
  },
  {
   "cell_type": "code",
   "execution_count": 14,
   "id": "53cdc00d-d2b6-4db7-a9ea-1fab01f27eba",
   "metadata": {},
   "outputs": [
    {
     "name": "stdout",
     "output_type": "stream",
     "text": [
      "打印字符串长度\n",
      "10\n",
      "字符:H,索引:0\n",
      "字符:e,索引:1\n",
      "字符:y,索引:2\n",
      "字符:,,索引:3\n",
      "字符: ,索引:4\n",
      "字符:J,索引:5\n",
      "字符:a,索引:6\n",
      "字符:m,索引:7\n",
      "字符:e,索引:8\n",
      "字符:s,索引:9\n",
      "H\n",
      "e\n",
      "s\n",
      "e\n",
      "Hey\n",
      "ey, J\n",
      "Hy ae\n",
      "semaJ ,yeH\n"
     ]
    }
   ],
   "source": [
    "greeting_str='Hey, James'\n",
    "print('打印字符串长度')\n",
    "print(len(greeting_str))\n",
    "\n",
    "for index,char in enumerate(greeting_str):\n",
    "    print(f\"字符:{char},索引:{index}\")\n",
    "\n",
    "print(greeting_str[0])\n",
    "print(greeting_str[1])\n",
    "\n",
    "print(greeting_str[-1])\n",
    "print(greeting_str[-2])\n",
    "\n",
    "print(greeting_str[:3])\n",
    "print(greeting_str[1:6])\n",
    "print(greeting_str[::2])\n",
    "print(greeting_str[::-1])\n"
   ]
  },
  {
   "cell_type": "code",
   "execution_count": 29,
   "id": "384e4f71-2cb0-41da-8b67-e09305bd5c8e",
   "metadata": {},
   "outputs": [
    {
     "name": "stdout",
     "output_type": "stream",
     "text": [
      "James has a height of 181.18 cm\n",
      "James has a height of 181.180 cm.\n",
      "James has a height of 181.2 cm\n",
      "James has a height of 181.1800 cm\n"
     ]
    }
   ],
   "source": [
    "name='James'\n",
    "height=181.18\n",
    "str_1=name+' has a height of '+str(height) +' cm'\n",
    "\n",
    "str_2='%s has a height of %.3f cm.' %(name,height)\n",
    "\n",
    "str_3='{} has a height of {:.1f} cm'.format(name,height)\n",
    "\n",
    "str_4=f'{name} has a height of {height:.4f} cm'\n",
    "\n",
    "print(str_1)\n",
    "print(str_2)\n",
    "print(str_3)\n",
    "print(str_4)"
   ]
  },
  {
   "cell_type": "code",
   "execution_count": 35,
   "id": "4600fa88-58e3-4e45-8141-d2b08adfbc76",
   "metadata": {},
   "outputs": [
    {
     "name": "stdout",
     "output_type": "stream",
     "text": [
      "[1, 1.0, '12ab', True, [1, 1.0, '1'], {1}, {1: 1.0}]\n",
      "[1, 1.0, '123', True, [1, 1.0, '1'], {1}, {1: 1.0}]\n",
      "[1, 1.0, 'inserted', '123', True, [1, 1.0, '1'], {1}, {1: 1.0}]\n",
      "[1, 1.0, 'inserted', '123', True, [1, 1.0, '1'], {1}, {1: 1.0}, 'tail']\n",
      "[1, 1.0, 'inserted', '123', True, [1, 1.0, '1'], {1}, {1: 1.0}]\n",
      "[1, 1.0, 'inserted', True, [1, 1.0, '1'], {1}, {1: 1.0}]\n",
      "no\n",
      "[{1: 1.0}, {1}, [1, 1.0, '1'], True, 'inserted', 1.0, 1]\n",
      "J_a_m_e_s\n"
     ]
    }
   ],
   "source": [
    "my_list=[1,1.0,'12ab',True,[1,1.0,'1'],{1},{1:1.0}]\n",
    "print(my_list)\n",
    "\n",
    "my_list[2]='123'\n",
    "print(my_list)\n",
    "\n",
    "my_list.insert(2,'inserted')\n",
    "print(my_list)\n",
    "\n",
    "my_list.append('tail')\n",
    "print(my_list)\n",
    "\n",
    "del my_list[-1]\n",
    "print(my_list)\n",
    "\n",
    "my_list.remove('123')\n",
    "print(my_list)\n",
    "\n",
    "if '123' in my_list:\n",
    "    print('yes')\n",
    "else:\n",
    "    print('no')\n",
    "\n",
    "my_list.reverse()\n",
    "print(my_list)\n",
    "\n",
    "letters=['J','a','m','e','s']\n",
    "word='_'.join(letters)\n",
    "print(word)"
   ]
  },
  {
   "cell_type": "code",
   "execution_count": 37,
   "id": "fbca9a02-0a09-4c6a-9487-2122e52a38cb",
   "metadata": {},
   "outputs": [
    {
     "name": "stdout",
     "output_type": "stream",
     "text": [
      "['b', 'c']\n",
      "[2, 3]\n"
     ]
    }
   ],
   "source": [
    "string_0='abcd'\n",
    "first,*str_rest,last=string_0\n",
    "print(str_rest)\n",
    "\n",
    "tuple_0=(1,2,3,4)\n",
    "first,*tuple_rest,last=tuple_0\n",
    "print(tuple_rest)"
   ]
  },
  {
   "cell_type": "code",
   "execution_count": 45,
   "id": "e4891413-e109-43d5-a2bb-a6c211eb92e8",
   "metadata": {},
   "outputs": [
    {
     "name": "stdout",
     "output_type": "stream",
     "text": [
      "['a', 'b', 'c', '1']\n",
      "['a', 'b', 'c', '1']\n",
      "[1, 2, 3, 4]\n"
     ]
    }
   ],
   "source": [
    "list1=[1,2,3,4]\n",
    "\n",
    "list2=list1\n",
    "\n",
    "list3=list1.copy()\n",
    "\n",
    "list2[0]='a'\n",
    "list2[1]='b'\n",
    "list2[2]='c'\n",
    "list2[3]='1'\n",
    "\n",
    "print(list1)\n",
    "print(list2)\n",
    "print(list3)"
   ]
  },
  {
   "cell_type": "code",
   "execution_count": 47,
   "id": "d388531a-bf8f-4a22-9c98-c2e882c4579e",
   "metadata": {},
   "outputs": [
    {
     "name": "stdout",
     "output_type": "stream",
     "text": [
      "原始list\n",
      "[1, 2, 3, [4, 5]]\n",
      "新的list\n",
      "[1, 2, 3, ['X3', 5]]\n",
      "[1, 2, 'worked_0', ['deep', 5]]\n",
      "[1, 2, 'worked_1', ['X3', 5]]\n",
      "[1, 2, 'worked_2', ['X3', 5]]\n",
      "[1, 2, 'worked_3', ['X3', 5]]\n",
      "[1, 2, 'worked_4', ['X3', 5]]\n"
     ]
    }
   ],
   "source": [
    "import copy\n",
    "list1=[1,2,3,[4,5]]\n",
    "print('原始list')\n",
    "print(list1)\n",
    "\n",
    "list_deep=copy.deepcopy(list1)\n",
    "\n",
    "list2=list1.copy()\n",
    "list3=list1[:]\n",
    "list4=list(list1)\n",
    "list5=[*list1]\n",
    "\n",
    "list_deep[3][0]='deep'\n",
    "list_deep[2]='worked_0'\n",
    "\n",
    "list2[3][0]='abc'\n",
    "list2[2]='worked_1'\n",
    "\n",
    "list3[3][0]='X1'\n",
    "list3[2]='worked_2'\n",
    "\n",
    "list4[3][0]='X2'\n",
    "list4[2]='worked_3'\n",
    "\n",
    "list5[3][0]='X3'\n",
    "list5[2]='worked_4'\n",
    "\n",
    "print('新的list')\n",
    "print(list1)\n",
    "print(list_deep)\n",
    "print(list2)\n",
    "print(list3)\n",
    "print(list4)\n",
    "print(list5)"
   ]
  },
  {
   "cell_type": "code",
   "execution_count": 49,
   "id": "5d3c901c-f9dc-4d2c-b4ad-2da2b1664400",
   "metadata": {},
   "outputs": [
    {
     "name": "stdout",
     "output_type": "stream",
     "text": [
      "James\n",
      "8888\n",
      "{'name': 'James', 'age': 30, 'gender': 'male'}\n",
      "{'name': 'James', 'age': 30, 'gender': 'male', 'city': 'Toronto'}\n",
      "{'name': 'James', 'age': 30, 'city': 'Toronto'}\n",
      "dict_keys(['name', 'age', 'city'])\n",
      "dict_values(['James', 30, 'Toronto'])\n",
      "dict_items([('name', 'James'), ('age', 30), ('city', 'Toronto')])\n"
     ]
    }
   ],
   "source": [
    "person={'name':'James','age':88,'gender':'male'}\n",
    "\n",
    "fruits=dict(apple=88,banana=888,cherry=8888)\n",
    "\n",
    "print(person['name'])\n",
    "print(fruits['cherry'])\n",
    "\n",
    "person['age']=30\n",
    "print(person)\n",
    "\n",
    "person['city']='Toronto'\n",
    "print(person)\n",
    "\n",
    "del person['gender']\n",
    "print(person)\n",
    "\n",
    "print(person.keys())\n",
    "print(person.values())\n",
    "print(person.items())"
   ]
  },
  {
   "cell_type": "code",
   "execution_count": 59,
   "id": "f9a64c9e-e060-4861-9910-6c779e87759b",
   "metadata": {},
   "outputs": [
    {
     "name": "stdout",
     "output_type": "stream",
     "text": [
      "[0, 5]\n",
      "[[0, 5]]\n",
      "[3, 4]\n",
      "[[3, 4]]\n",
      "[5, 0]\n",
      "[[5, 0]]\n",
      "[0, 3, 5]\n",
      "[[0], [3], [5]]\n",
      "[5, 4, 0]\n",
      "[[5], [4], [0]]\n"
     ]
    }
   ],
   "source": [
    "A=[[0,5],\n",
    "   [3,4],\n",
    "   [5,0]]\n",
    "\n",
    "#取出行向量\n",
    "\n",
    "print(A[0])\n",
    "print([A[0]])\n",
    "\n",
    "print(A[1])\n",
    "print([A[1]])\n",
    "\n",
    "print(A[2])\n",
    "print([A[2]])\n",
    "\n",
    "#取出列向量\n",
    "\n",
    "print([row[0] for row in A])\n",
    "print([[row[0]] for row in A])\n",
    "\n",
    "print([row[1] for row in A])\n",
    "print([[row[1]]for row in A]) "
   ]
  },
  {
   "cell_type": "code",
   "execution_count": 61,
   "id": "70b8a2aa-a551-4c30-bbd9-b3a37a7777e7",
   "metadata": {},
   "outputs": [
    {
     "data": {
      "text/plain": [
       "numpy.ndarray"
      ]
     },
     "execution_count": 61,
     "metadata": {},
     "output_type": "execute_result"
    }
   ],
   "source": [
    "from sklearn.datasets import load_iris\n",
    "\n",
    "iris=load_iris()\n",
    "\n",
    "X=iris.data\n",
    "type(X)\n",
    "\n",
    "y=iris.target\n",
    "type(y)"
   ]
  },
  {
   "cell_type": "code",
   "execution_count": 63,
   "id": "10f477ce-bc5f-4af3-8ef7-2109ae51460a",
   "metadata": {},
   "outputs": [
    {
     "data": {
      "text/plain": [
       "pandas.core.frame.DataFrame"
      ]
     },
     "execution_count": 63,
     "metadata": {},
     "output_type": "execute_result"
    }
   ],
   "source": [
    "import seaborn as sns\n",
    "\n",
    "iris_df=sns.load_dataset(\"iris\")\n",
    "\n",
    "iris_df.head()\n",
    "type(iris_df)"
   ]
  },
  {
   "cell_type": "code",
   "execution_count": 65,
   "id": "f0af1c23-908c-42a5-a65b-5ae571d115c6",
   "metadata": {},
   "outputs": [
    {
     "name": "stdout",
     "output_type": "stream",
     "text": [
      "30.0\n",
      "1020.0\n"
     ]
    }
   ],
   "source": [
    "a=10\n",
    "b=20.0\n",
    "c=a+b\n",
    "print(c)\n",
    "\n",
    "str_a=\"10\"\n",
    "str_b=\"20.0\"\n",
    "str_c=str_a+str_b\n",
    "print(str_c)"
   ]
  },
  {
   "cell_type": "code",
   "execution_count": 67,
   "id": "1c3d4b10-bcb6-4a39-b3c5-a7ee53d27a66",
   "metadata": {},
   "outputs": [
    {
     "name": "stdout",
     "output_type": "stream",
     "text": [
      "200.0\n",
      "101010\n",
      "20.020.0\n"
     ]
    }
   ],
   "source": [
    "a=10\n",
    "b=20.0\n",
    "c=a*b\n",
    "print(c)\n",
    "\n",
    "str_a=\"10\"\n",
    "str_b=\"20.0\"\n",
    "str_c=str_a*3\n",
    "str_d=str_b*2\n",
    "print(str_c)\n",
    "print(str_d)"
   ]
  },
  {
   "cell_type": "code",
   "execution_count": null,
   "id": "23eea932-e922-4e49-989f-a200c7c90025",
   "metadata": {},
   "outputs": [],
   "source": []
  }
 ],
 "metadata": {
  "kernelspec": {
   "display_name": "Python [conda env:base] *",
   "language": "python",
   "name": "conda-base-py"
  },
  "language_info": {
   "codemirror_mode": {
    "name": "ipython",
    "version": 3
   },
   "file_extension": ".py",
   "mimetype": "text/x-python",
   "name": "python",
   "nbconvert_exporter": "python",
   "pygments_lexer": "ipython3",
   "version": "3.12.7"
  }
 },
 "nbformat": 4,
 "nbformat_minor": 5
}
