{
 "cells": [
  {
   "cell_type": "code",
   "execution_count": 2,
   "id": "1a9aec1b-2329-47f3-af14-3c9952a2b2d0",
   "metadata": {},
   "outputs": [
    {
     "name": "stdout",
     "output_type": "stream",
     "text": [
      "<class 'int'>\n",
      "<class 'float'>\n",
      "<class 'complex'>\n"
     ]
    }
   ],
   "source": [
    "x=88\n",
    "y=-8.88\n",
    "z=8+8j\n",
    "print(type(x))\n",
    "print(type(y))\n",
    "print(type(z))"
   ]
  },
  {
   "cell_type": "code",
   "execution_count": 4,
   "id": "f2e9af60-e01b-451b-b175-b8dfbf90fb0e",
   "metadata": {},
   "outputs": [
    {
     "name": "stdout",
     "output_type": "stream",
     "text": [
      "88\n",
      "8.0\n",
      "(8+0j)\n",
      "88.8\n"
     ]
    }
   ],
   "source": [
    "x=88.8\n",
    "y=8\n",
    "\n",
    "#浮点数>>>整数\n",
    "x_to_int=int(x)\n",
    "print(x_to_int)\n",
    "\n",
    "#整数>>>浮点数\n",
    "y_to_float=float(y)\n",
    "print(y_to_float)\n",
    "\n",
    "#将整数转换为复数\n",
    "y_to_complex=complex(y)\n",
    "print(y_to_complex)\n",
    "\n",
    "#将数字转成字符串\n",
    "x_to_str=str(x)\n",
    "print(x_to_str)"
   ]
  },
  {
   "cell_type": "code",
   "execution_count": 6,
   "id": "a2086cea-7f15-4704-9c54-e02c24f187ee",
   "metadata": {},
   "outputs": [
    {
     "name": "stdout",
     "output_type": "stream",
     "text": [
      "3.141592653589793\n",
      "2.718281828459045\n",
      "1.4142135623730951\n"
     ]
    }
   ],
   "source": [
    "import math\n",
    "print(math.pi)\n",
    "print(math.e)\n",
    "print(math.sqrt(2))"
   ]
  },
  {
   "cell_type": "code",
   "execution_count": 8,
   "id": "e3627e8b-2806-4359-a729-6c831a8fcf08",
   "metadata": {},
   "outputs": [
    {
     "name": "stdout",
     "output_type": "stream",
     "text": [
      "I am learning python 101!\n",
      "Python is fun.matchine learning is fun too\n",
      "Hey,James\n",
      "Python is FunPython is FunPython is Fun\n",
      "123123123\n",
      "123456\n",
      "<class 'str'>\n"
     ]
    }
   ],
   "source": [
    "str1='I am learning python 101!'\n",
    "print(str1)\n",
    "\n",
    "str2=\"Python is fun.matchine learning is fun too\"\n",
    "print(str2)\n",
    "\n",
    "str4='Hey,'+'James'\n",
    "print(str4)\n",
    "\n",
    "str5='Python is Fun'\n",
    "str6=str5*3\n",
    "print(str6)\n",
    "\n",
    "str7='123'\n",
    "str8=str7*3\n",
    "print(str8)\n",
    "\n",
    "str9='456'\n",
    "str10=str7+str9\n",
    "print(str10)\n",
    "print(type(str10))"
   ]
  },
  {
   "cell_type": "code",
   "execution_count": 14,
   "id": "53cdc00d-d2b6-4db7-a9ea-1fab01f27eba",
   "metadata": {},
   "outputs": [
    {
     "name": "stdout",
     "output_type": "stream",
     "text": [
      "打印字符串长度\n",
      "10\n",
      "字符:H,索引:0\n",
      "字符:e,索引:1\n",
      "字符:y,索引:2\n",
      "字符:,,索引:3\n",
      "字符: ,索引:4\n",
      "字符:J,索引:5\n",
      "字符:a,索引:6\n",
      "字符:m,索引:7\n",
      "字符:e,索引:8\n",
      "字符:s,索引:9\n",
      "H\n",
      "e\n",
      "s\n",
      "e\n",
      "Hey\n",
      "ey, J\n",
      "Hy ae\n",
      "semaJ ,yeH\n"
     ]
    }
   ],
   "source": [
    "greeting_str='Hey, James'\n",
    "print('打印字符串长度')\n",
    "print(len(greeting_str))\n",
    "\n",
    "for index,char in enumerate(greeting_str):\n",
    "    print(f\"字符:{char},索引:{index}\")\n",
    "\n",
    "print(greeting_str[0])\n",
    "print(greeting_str[1])\n",
    "\n",
    "print(greeting_str[-1])\n",
    "print(greeting_str[-2])\n",
    "\n",
    "print(greeting_str[:3])\n",
    "print(greeting_str[1:6])\n",
    "print(greeting_str[::2])\n",
    "print(greeting_str[::-1])\n"
   ]
  },
  {
   "cell_type": "code",
   "execution_count": 29,
   "id": "384e4f71-2cb0-41da-8b67-e09305bd5c8e",
   "metadata": {},
   "outputs": [
    {
     "name": "stdout",
     "output_type": "stream",
     "text": [
      "James has a height of 181.18 cm\n",
      "James has a height of 181.180 cm.\n",
      "James has a height of 181.2 cm\n",
      "James has a height of 181.1800 cm\n"
     ]
    }
   ],
   "source": [
    "name='James'\n",
    "height=181.18\n",
    "str_1=name+' has a height of '+str(height) +' cm'\n",
    "\n",
    "str_2='%s has a height of %.3f cm.' %(name,height)\n",
    "\n",
    "str_3='{} has a height of {:.1f} cm'.format(name,height)\n",
    "\n",
    "str_4=f'{name} has a height of {height:.4f} cm'\n",
    "\n",
    "print(str_1)\n",
    "print(str_2)\n",
    "print(str_3)\n",
    "print(str_4)"
   ]
  },
  {
   "cell_type": "code",
   "execution_count": 31,
   "id": "4600fa88-58e3-4e45-8141-d2b08adfbc76",
   "metadata": {},
   "outputs": [
    {
     "ename": "SyntaxError",
     "evalue": "':' expected after dictionary key (3920008598.py, line 1)",
     "output_type": "error",
     "traceback": [
      "\u001b[0;36m  Cell \u001b[0;32mIn[31], line 1\u001b[0;36m\u001b[0m\n\u001b[0;31m    my_list=[1,1.0,'12ab',True,[1,1.0,'1'],{1},{1:1,0}]\u001b[0m\n\u001b[0m                                                    ^\u001b[0m\n\u001b[0;31mSyntaxError\u001b[0m\u001b[0;31m:\u001b[0m ':' expected after dictionary key\n"
     ]
    }
   ],
   "source": [
    "my_list=[1,1.0,'12ab',True,[1,1.0,'1'],{1},{1:1.0}]\n",
    "print(my_list)\n",
    "\n",
    "my_list[2]='123'\n",
    "print(my_list)\n",
    "\n",
    "my_list.insert(2,'inserted')\n",
    "print(my_list)\n",
    "\n",
    "mu_list.append('tail')\n",
    "print(my_list)\n",
    "\n",
    "del my_list[-1]\n",
    "print(my_list)\n",
    "\n",
    "my_list.remove('123')\n",
    "print(my_list)\n",
    "\n",
    "if '123' in my_list:\n",
    "    print('yes')\n",
    "else:\n",
    "    print('no')\n",
    "\n",
    "my_list.reverse()\n",
    "print(my_list)\n",
    "\n",
    "letters=['J','a','m','e','s']\n",
    "word='_'.join(letters)\n",
    "print(word)"
   ]
  },
  {
   "cell_type": "code",
   "execution_count": null,
   "id": "fbca9a02-0a09-4c6a-9487-2122e52a38cb",
   "metadata": {},
   "outputs": [],
   "source": []
  }
 ],
 "metadata": {
  "kernelspec": {
   "display_name": "Python [conda env:base] *",
   "language": "python",
   "name": "conda-base-py"
  },
  "language_info": {
   "codemirror_mode": {
    "name": "ipython",
    "version": 3
   },
   "file_extension": ".py",
   "mimetype": "text/x-python",
   "name": "python",
   "nbconvert_exporter": "python",
   "pygments_lexer": "ipython3",
   "version": "3.12.7"
  }
 },
 "nbformat": 4,
 "nbformat_minor": 5
}
