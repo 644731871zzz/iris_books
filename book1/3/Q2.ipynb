{
 "cells": [
  {
   "cell_type": "markdown",
   "id": "4e5930cc-863d-4bd3-b7cc-da0f1a1a279e",
   "metadata": {},
   "source": [
    "多项式"
   ]
  },
  {
   "cell_type": "markdown",
   "id": "94656e1e-11a0-48d6-bbb3-6ab182d4fa65",
   "metadata": {},
   "source": [
    "$x^{2}-y{2}=\\left(x+y\\right)\\left(x-y\\right)$"
   ]
  },
  {
   "cell_type": "markdown",
   "id": "10488bb9-0c89-4a4e-a948-50c2b48ac441",
   "metadata": {},
   "source": [
    "$a_{n}x^{n}+a_{n-1}x^{n-1}+\\dotsb+a_{2}x^{2}+a_{1}x+a_{0}$"
   ]
  },
  {
   "cell_type": "markdown",
   "id": "c15855fe-024f-4a13-bcbb-46960f48f69f",
   "metadata": {},
   "source": [
    "$\\sum_{k=0}^{n}a_{k}x^{k}$"
   ]
  },
  {
   "cell_type": "markdown",
   "id": "ec7c3d32-cdeb-4dc6-b59a-261c4facfa53",
   "metadata": {},
   "source": [
    "$ax^2+bx+c=0\\left(a\\neq0\\right)$"
   ]
  },
  {
   "cell_type": "markdown",
   "id": "2bbfb1f2-da29-42d4-988b-b0dbcbc174be",
   "metadata": {},
   "source": [
    "有关根式"
   ]
  },
  {
   "cell_type": "markdown",
   "id": "973c59e9-364d-41a7-931d-ed7959ba33b7",
   "metadata": {},
   "source": [
    "${\\sqrt[{n}]{a^{m}}}=(a^{m})^{1/n}=a^{m/n}=(a^{1/n})^{m}=({\\sqrt[{n}]{a}})^{m}$"
   ]
  },
  {
   "cell_type": "markdown",
   "id": "dc78636f-80b0-4893-9c00-a3e3e55d9b01",
   "metadata": {},
   "source": [
    "$\\left({\\sqrt{1-x^{2}}}\\right)^{2}$"
   ]
  },
  {
   "cell_type": "markdown",
   "id": "7d5e2f87-6f14-4a0c-bb46-201d70bfb7f4",
   "metadata": {},
   "source": [
    "数学分式"
   ]
  },
  {
   "cell_type": "markdown",
   "id": "a6aef7d6-2e21-4283-827f-68f90574ea69",
   "metadata": {},
   "source": [
    "$\\frac{1}{x+1}+{\\frac{1}{x-1}}={\\frac{2x}{x^{2}-1}}$"
   ]
  },
  {
   "cell_type": "markdown",
   "id": "b0bd0c31-c283-4786-ae47-b21021540f6d",
   "metadata": {},
   "source": [
    "$x_{1,2}={\\frac{-b\\pm{\\sqrt{b^{2}-4ac}}}{2a}}$"
   ]
  },
  {
   "cell_type": "markdown",
   "id": "a86ad105-71f6-4ef7-b759-7d7de1157cc1",
   "metadata": {},
   "source": [
    "有关函数的数学表达式"
   ]
  },
  {
   "cell_type": "markdown",
   "id": "a2a66430-f306-4c0e-9b1a-7b0cbbcf9821",
   "metadata": {},
   "source": [
    "$f(x)=ax^(2)+bx+c~~{\\text{with}}~~a,b,c\\in\\mathbb{R},\\ a\\neq 0$"
   ]
  },
  {
   "cell_type": "markdown",
   "id": "54334739-26c2-4306-b514-6ff9be78ea5e",
   "metadata": {},
   "source": [
    "$f(x_1,x_2)=x_1^2+x_2^2+2x_1x_2$"
   ]
  },
  {
   "cell_type": "markdown",
   "id": "01840257-9a6e-44b6-93d2-9109be20621b",
   "metadata": {},
   "source": [
    "$\\log_{b}(xy)=\\log_{b}x+\\log_{b}y$"
   ]
  },
  {
   "cell_type": "markdown",
   "id": "8aa1ff9f-ac12-4d16-9e08-e3821e1f4990",
   "metadata": {},
   "source": [
    "$\\ln(xy)=\\ln x+\\ln y ~~{\\text{for}}~~ x>0 ~~{\\text{and}}~~ y>0$"
   ]
  },
  {
   "cell_type": "markdown",
   "id": "e6bbcea8-6e2a-4477-bf99-3c9f8a62935d",
   "metadata": {},
   "source": [
    "$f(x)=a\\exp \\left(-{\\frac{(x-b)^{2}}{2c^{2}}}\\right)$"
   ]
  },
  {
   "cell_type": "markdown",
   "id": "7a380c85-f95a-4bce-8e4f-c2c54db7e959",
   "metadata": {},
   "source": [
    "三角恒等式"
   ]
  },
  {
   "cell_type": "markdown",
   "id": "b559bcc2-1a5d-478e-b19b-199afe8c6133",
   "metadata": {},
   "source": [
    "$\\sin^2\\theta+\\cos^2\\theta=1$"
   ]
  },
  {
   "cell_type": "markdown",
   "id": "d9c729e3-9a6e-4fae-9690-bba650a08ec8",
   "metadata": {},
   "source": [
    "$sin2\\theta=2sin\\theta\\cos\\theta$"
   ]
  },
  {
   "cell_type": "markdown",
   "id": "f643d9bd-6ae5-4398-9f20-fdd7cf52fe50",
   "metadata": {},
   "source": [
    "$\\sin(\\alpha \\pm \\beta)=\\sin \\alpha \\cos \\beta \\pm \\cos \\alpha \\sin \\beta$"
   ]
  },
  {
   "cell_type": "markdown",
   "id": "9828e466-da33-445b-b8eb-46b3e743ec9a",
   "metadata": {},
   "source": [
    "$\\tan(\\alpha\\pm\\beta)=\\frac{\\tan\\alpha\\pm\\tan\\beta}{1\\mp\\tan\\alpha\\tan\\beta}$"
   ]
  },
  {
   "cell_type": "markdown",
   "id": "181d615e-084b-4e80-888d-7b3d4b2ef859",
   "metadata": {},
   "source": [
    "微积分数学表达式"
   ]
  },
  {
   "cell_type": "markdown",
   "id": "169062ec-5a1f-4732-b1d6-0155937229fa",
   "metadata": {},
   "source": [
    "$\\exp(x)=\\sum_{k=0}^{\\infty}{\\frac{x^{k}}{k!}}=1+x+{\\frac{x^{2}}{2}}+{\\frac{x^{3}}{6}}+{\\frac{x^{4}}{24}}+\\cdots $"
   ]
  },
  {
   "cell_type": "markdown",
   "id": "49f7fa32-cd77-4768-afe5-961146032d3d",
   "metadata": {},
   "source": [
    "$(\\sum_{i=0}^{n}a_{i})\\left(\\sum_{j=0}^{n}b_{j}\\right)=\\sum_{i=0}^{n}\\sum_{j=0}^{n}a_{i}b_{j}$"
   ]
  },
  {
   "cell_type": "markdown",
   "id": "e15c360b-733d-4ccf-8c92-dd1ee7fbad0b",
   "metadata": {},
   "source": [
    "$\\exp(x)=\\lim_{n\\to\\infty}\\left(1+{\\frac{x}{n}}\\right)^{n}$"
   ]
  },
  {
   "cell_type": "markdown",
   "id": "2b598edd-2a19-4947-9aec-d67342bbf5cb",
   "metadata": {},
   "source": [
    "$\\frac{\\mathrm{d}}{\\mathrm{d}x}\\exp(f(x))=f'(x)\\exp(f(x))$"
   ]
  },
  {
   "cell_type": "markdown",
   "id": "b7400d48-b06c-4b5c-a600-ffb4aa06f74a",
   "metadata": {},
   "source": [
    "$\\int_{a}^{b}f(x)\\mathrm{d}x$"
   ]
  },
  {
   "cell_type": "markdown",
   "id": "3e6c19d8-bb25-47e4-a267-882d546ac542",
   "metadata": {},
   "source": [
    "$\\int_{-\\infty}^{\\infty}\\exp(-x^{2})\\mathrm{d}x={\\sqrt{\\mathrm{\\pi}}}$"
   ]
  },
  {
   "cell_type": "markdown",
   "id": "39a297cc-d0b2-4c96-ab1a-80d85386956e",
   "metadata": {},
   "source": [
    "$\\int_{-\\infty}^{\\infty}\\int_{-\\infty}^{\\infty}\\exp\\left(-\\left(x^{2}+y^{2}\\right)\\right)\\mathrm{d}x\\mathrm{d}y=\\pi$"
   ]
  },
  {
   "cell_type": "markdown",
   "id": "c1cc6f68-7f62-4916-853c-f0691ebea2c5",
   "metadata": {},
   "source": [
    "$\\frac{\\partial^{2}f}{\\partial x^{2}}=f''_{xx}=\\partial_{xx}f=\\partial_{x}^{2}f$"
   ]
  },
  {
   "cell_type": "markdown",
   "id": "c5131dad-6756-4537-96cb-0b5ad9f8c9f4",
   "metadata": {},
   "source": [
    "${\\frac{\\partial^{2}f}{\\partial y\\partial x}}={\\frac{\\partial}{\\partial y}}\\left({\\frac{\\partial f}{\\partial x}}\\right)=f''_{xy}$"
   ]
  },
  {
   "cell_type": "markdown",
   "id": "13e38515-0c95-4364-9ec9-258c1e861734",
   "metadata": {},
   "source": [
    "有关向量表达式"
   ]
  },
  {
   "cell_type": "markdown",
   "id": "0c86574e-1030-441b-8998-84085c95a8b6",
   "metadata": {},
   "source": [
    "$\\mathbf{a}={\\begin{bmatrix}a_{1}\\\\ a_{2}\\\\ a_{3}\\end{bmatrix}}=[a_{1}\\ a_{2}\\ a_{3}]^{\\operatorname{T}}$"
   ]
  },
  {
   "cell_type": "markdown",
   "id": "0c7522f9-75de-491d-a347-044dc781b024",
   "metadata": {},
   "source": [
    "$\\left\\|\\mathbf{a}\\right\\|=\\sqrt{a_{1}^{2}+a_{2}^{2}+a_{3}^{2}}$"
   ]
  },
  {
   "cell_type": "markdown",
   "id": "9325690d-f8db-407e-92c3-6f5cb5db7a97",
   "metadata": {},
   "source": [
    "$\\mathbf{a}\\cdot\\mathbf{b}=a_{1}b_{1}+a_{2}b_{2}+a_{3}b_{3}$"
   ]
  },
  {
   "cell_type": "markdown",
   "id": "5dfa4465-f34b-48e1-b392-b5b44d6c0aec",
   "metadata": {},
   "source": [
    "$\\left\\|\\mathbf{x}\\right\\|_{p}=\\left(\\sum_{i=1}^{n}\\left|x_{i}\\right|^{p}\\right)^{1/p}$"
   ]
  },
  {
   "cell_type": "markdown",
   "id": "497af82e-6cf0-4765-9818-9ce7721fcccf",
   "metadata": {},
   "source": [
    "矩阵表达式"
   ]
  },
  {
   "cell_type": "markdown",
   "id": "3af74e8c-9fb3-4134-b85a-e712bd80bc26",
   "metadata": {},
   "source": [
    "$\\mathbf{A}={\\begin{bmatrix}1&2\\\\ 3&4\\\\ 5&6 \\end{bmatrix}}$"
   ]
  },
  {
   "cell_type": "markdown",
   "id": "d5f3bbb7-0c4e-4457-bbc1-ad15c69d3d5e",
   "metadata": {},
   "source": [
    "$\\mathbf{A}={\\begin{bmatrix}a_{11}&a_{12}&\\cdots&a_{1n}\\\\a_{21}&a_{22}&\\cdots&a_{2n}\\\\\\vdots&\\vdots&\\ddots&\\vdots\\\\a_{m1}&a_{m2}&\\cdots&a_{mn}\\end{bmatrix}}$"
   ]
  },
  {
   "cell_type": "markdown",
   "id": "3040a55a-9835-4354-acf2-309ec10faf91",
   "metadata": {},
   "source": [
    "$\\left(\\mathbf{A}+\\mathbf{B}\\right)^{\\operatorname{T}}=\\mathbf{A}^{\\operatorname{T}}+\\mathbf{B}^{\\operatorname{T}}$"
   ]
  },
  {
   "cell_type": "markdown",
   "id": "c5a2cb95-d8a7-4038-bc7b-98e5a18ca630",
   "metadata": {},
   "source": [
    "$\\left(\\mathbf{AB}\\right)^{\\operatorname{T}}=\\mathbf{A}^{\\operatorname{T}}\\mathbf{B}^{\\operatorname{T}}$"
   ]
  },
  {
   "cell_type": "markdown",
   "id": "6212a06f-413e-4ac0-9c56-0fbc6bbd1f46",
   "metadata": {},
   "source": [
    "$\\left(\\mathbf{A}^{\\operatorname{T}}\\right)^{-1}=\\left(\\mathbf{A}^{-1}\\right)^{\\operatorname{T}}$"
   ]
  },
  {
   "cell_type": "markdown",
   "id": "e91df12e-81f7-4378-8049-9be862f86541",
   "metadata": {},
   "source": [
    "$\\mathbf{u}\\otimes\\mathbf{v}=\\mathbf{u}\\mathbf{v}^{\\operatorname{T}}={\\begin{bmatrix}u_{1}\\\\ u_{2}\\\\ u_{3} \\\\ u_{4} \\end{bmatrix}}{\\begin{bmatrix}v_{1}&v_{2}&v_{3}\\end{bmatrix}}={\\begin{bmatrix}u_{1}v_{1}&u_{1}v_{2}&u_{1}v_{3}\\\\ u_{2}v_{1}&u_{2}v_{2}&u_{2}v_{3}\\\\ u_{3}v_{1}&u_{3}v_{2}&u_{3}v_{3}\\\\ u_{4}v_{1}&u_{4}v_{2}&u_{4}v_{3}\\end{bmatrix}}$"
   ]
  },
  {
   "cell_type": "markdown",
   "id": "3374bbed-c7ed-4b61-818f-7bc84e736920",
   "metadata": {},
   "source": [
    "$\\det{\\begin{bmatrix}a&b\\\\ c&d \\end{bmatrix}}=ad-bc$"
   ]
  },
  {
   "cell_type": "markdown",
   "id": "30ca75c7-f796-40d8-91d0-d53be6c757b9",
   "metadata": {},
   "source": [
    "概率统计的表达"
   ]
  },
  {
   "cell_type": "markdown",
   "id": "41607f55-dd51-40bb-9bd3-6ac8b93f6e85",
   "metadata": {},
   "source": [
    "$\\Pr(A\\vert B)={\\frac{\\Pr(B\\vert A)\\Pr(A)}{\\Pr(B)}}$"
   ]
  },
  {
   "cell_type": "markdown",
   "id": "22a118e8-2e79-44e1-85a4-2d06cadafc1d",
   "metadata": {},
   "source": [
    "$f_{X\\vert Y=y}(x)={\\frac{f_{X,Y}(x,y)}{f_{Y}(y)}}$"
   ]
  },
  {
   "cell_type": "markdown",
   "id": "405f210d-b539-4a0d-b45a-bedade37f429",
   "metadata": {},
   "source": [
    "$\\operatorname{var}(X)=\\operatorname{E}\\left[X^{2}\\right]-\\operatorname{E}\\left[X\\right]^{2}$"
   ]
  },
  {
   "cell_type": "markdown",
   "id": "f17d7d56-ab06-4476-8ca0-1912906577b9",
   "metadata": {},
   "source": [
    "$\\operatorname{var}(aX+bY)=a^{2}\\operatorname{var}(X)+b^{2}\\operatorname{var}(Y)+2ab\\operatorname{cov}(X,Y)$"
   ]
  },
  {
   "cell_type": "markdown",
   "id": "91fcfab3-52b3-486b-9c20-ebb891babc83",
   "metadata": {},
   "source": [
    "$\\operatorname{E}[X]=\\int_{-\\infty}^{\\infty}xf_{X}(x)\\operatorname{d}x$"
   ]
  },
  {
   "cell_type": "markdown",
   "id": "97c497bf-744d-4be7-961a-2829d9c27108",
   "metadata": {},
   "source": [
    "$X\\sim N(\\mu , \\sigma ^{2})$"
   ]
  },
  {
   "cell_type": "markdown",
   "id": "43d5c3b4-f783-4197-85c1-9f7904c17779",
   "metadata": {},
   "source": [
    "$\\frac{\\exp \\left(-{\\frac{1}{2}}\\left({\\mathbf{x}}-{\\boldsymbol{\\mu}}\\right)^{\\mathrm{T}}{\\boldsymbol{\\Sigma}}^{-1}\\left({\\mathbf{x}}-{\\boldsymbol{\\mu}}\\right)\\right)}{\\sqrt{(2\\pi)^{k}|{\\Sigma}|}}$"
   ]
  },
  {
   "cell_type": "code",
   "execution_count": null,
   "id": "e65ee1de-7972-4652-b92c-ecf43d29525a",
   "metadata": {},
   "outputs": [],
   "source": []
  }
 ],
 "metadata": {
  "kernelspec": {
   "display_name": "Python [conda env:base] *",
   "language": "python",
   "name": "conda-base-py"
  },
  "language_info": {
   "codemirror_mode": {
    "name": "ipython",
    "version": 3
   },
   "file_extension": ".py",
   "mimetype": "text/x-python",
   "name": "python",
   "nbconvert_exporter": "python",
   "pygments_lexer": "ipython3",
   "version": "3.12.7"
  }
 },
 "nbformat": 4,
 "nbformat_minor": 5
}
