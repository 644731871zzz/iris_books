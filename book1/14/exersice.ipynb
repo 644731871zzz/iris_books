{
 "cells": [
  {
   "cell_type": "code",
   "execution_count": 2,
   "id": "7cd7a5a8-8fa6-4695-834b-8efc3e9c6272",
   "metadata": {},
   "outputs": [],
   "source": [
    "import numpy as np\n",
    "import seaborn as sns\n",
    "import matplotlib.pyplot as plt\n",
    "import math\n",
    "from matplotlib import cm\n",
    "\n",
    "#导入色谱\n",
    "import os\n",
    "\n",
    "#如果文件夹不存在,创建文件夹\n",
    "if not os.path.isdir(\"Figures\"):\n",
    "    os.makedirs(\"Figures\")"
   ]
  },
  {
   "cell_type": "code",
   "execution_count": 52,
   "id": "e9d81512-e478-424b-92b0-11f953159440",
   "metadata": {},
   "outputs": [],
   "source": [
    "#定义二元函数可视化\n",
    "def visualize_2D(array,title,vmax,vmin):\n",
    "    fig_width=math.ceil(array.shape[1]*0.5)\n",
    "    fig_length=math.ceil(array.shape[0]*0.5)\n",
    "\n",
    "    fig,ax=plt.subplots(figsize=(fig_width,fig_length))\n",
    "\n",
    "    sns.heatmap(array,vmax=vmax,vmin=vmin,\n",
    "                annot=True,fmt=\".0f\",\n",
    "                square=True,cmap='RdYlBu_r',\n",
    "                linewidths=.5,cbar=False,\n",
    "                yticklabels=False,xticklabels=False,\n",
    "                ax=ax)\n",
    "    fig.savefig('Figures/'+title+'.svg',format='svg')\n",
    "\n",
    "\n",
    "#定义一元函数可视化\n",
    "def visualize_1D(array,title):\n",
    "    fig,ax=plt.subplots()\n",
    "\n",
    "    colors=cm.RdYlBu_r(np.linspace(0,1,len(array)))\n",
    "\n",
    "    for idx in range(len(array)):\n",
    "        circle_idx=plt.Circle((idx,0),0.5,facecolor=colors[idx],edgecolor='w')\n",
    "        ax.add_patch(circle_idx)\n",
    "        ax.text(idx,0,s=str(array[idx]),\n",
    "                horizontalalignment='center',\n",
    "                verticalalignment='center')\n",
    "\n",
    "    ax.set_xlim(-0.6,0.6+len(array))\n",
    "    ax.set_ylim(-0.6,0.6)\n",
    "    ax.set_aspect('equal',adjustable='box')\n",
    "    ax.axis('off')\n",
    "    fig.savefig('Figures/' +title+'.svg',format='svg')"
   ]
  },
  {
   "cell_type": "code",
   "execution_count": 44,
   "id": "516355b0-9cac-4bf7-8d71-06361ff5269b",
   "metadata": {},
   "outputs": [
    {
     "data": {
      "text/plain": [
       "(11,)"
      ]
     },
     "execution_count": 44,
     "metadata": {},
     "output_type": "execute_result"
    }
   ],
   "source": [
    "a_1D_array=np.arange(-5,5+1)\n",
    "a_1D_array.shape"
   ]
  },
  {
   "cell_type": "code",
   "execution_count": 46,
   "id": "1c35b4ae-c23f-44d9-81ef-4c9d0b80edd0",
   "metadata": {},
   "outputs": [
    {
     "data": {
      "text/plain": [
       "1"
      ]
     },
     "execution_count": 46,
     "metadata": {},
     "output_type": "execute_result"
    }
   ],
   "source": [
    "a_1D_array.ndim"
   ]
  },
  {
   "cell_type": "code",
   "execution_count": 48,
   "id": "0bbf1db3-1088-4622-b342-8c174a6319d5",
   "metadata": {},
   "outputs": [
    {
     "data": {
      "text/plain": [
       "11"
      ]
     },
     "execution_count": 48,
     "metadata": {},
     "output_type": "execute_result"
    }
   ],
   "source": [
    "len(a_1D_array)"
   ]
  },
  {
   "cell_type": "code",
   "execution_count": 67,
   "id": "f21f16fb-bcda-4f4e-b927-d9d45944c926",
   "metadata": {},
   "outputs": [
    {
     "data": {
      "image/png": "[encoded data removed]",
      "text/plain": [
       "<Figure size 640x480 with 1 Axes>"
      ]
     },
     "metadata": {},
     "output_type": "display_data"
    }
   ],
   "source": [
    "visualize_1D(a_1D_array[:],'一维数组')\n",
    "#只能为数组,使用单个索引传入单个数在len中会报错"
   ]
  },
  {
   "cell_type": "markdown",
   "id": "4c05c25b-2305-4ea8-93fd-e5b193a1f0c4",
   "metadata": {},
   "source": [
    "索引"
   ]
  },
  {
   "cell_type": "code",
   "execution_count": 71,
   "id": "7be86f6c-ff8c-47e2-bfc5-aaec76482878",
   "metadata": {},
   "outputs": [
    {
     "data": {
      "text/plain": [
       "-5"
      ]
     },
     "execution_count": 71,
     "metadata": {},
     "output_type": "execute_result"
    }
   ],
   "source": [
    "a_1D_array[0]"
   ]
  },
  {
   "cell_type": "code",
   "execution_count": 77,
   "id": "bcf7d709-d597-4b22-81ea-9efc759d7218",
   "metadata": {},
   "outputs": [
    {
     "data": {
      "text/plain": [
       "-5"
      ]
     },
     "execution_count": 77,
     "metadata": {},
     "output_type": "execute_result"
    }
   ],
   "source": [
    "a_1D_array[-11]"
   ]
  },
  {
   "cell_type": "code",
   "execution_count": 79,
   "id": "a6ea1d8e-8a55-4c22-bd54-7b69dd78513b",
   "metadata": {},
   "outputs": [
    {
     "data": {
      "text/plain": [
       "5"
      ]
     },
     "execution_count": 79,
     "metadata": {},
     "output_type": "execute_result"
    }
   ],
   "source": [
    "a_1D_array[-1]"
   ]
  },
  {
   "cell_type": "code",
   "execution_count": 81,
   "id": "a3aacdc4-ff13-4f08-bafa-157d8bdb5211",
   "metadata": {},
   "outputs": [
    {
     "data": {
      "text/plain": [
       "5"
      ]
     },
     "execution_count": 81,
     "metadata": {},
     "output_type": "execute_result"
    }
   ],
   "source": [
    "a_1D_array[len(a_1D_array)-1]"
   ]
  },
  {
   "cell_type": "code",
   "execution_count": 85,
   "id": "a218d217-c327-4637-bd3c-ebbd0abed10c",
   "metadata": {},
   "outputs": [
    {
     "data": {
      "text/plain": [
       "4"
      ]
     },
     "execution_count": 85,
     "metadata": {},
     "output_type": "execute_result"
    }
   ],
   "source": [
    "a_1D_array[-2]"
   ]
  },
  {
   "cell_type": "markdown",
   "id": "5ef1fd75-a68b-48de-b8cf-45ae7398ddfc",
   "metadata": {},
   "source": [
    "行向量\\列向量"
   ]
  },
  {
   "cell_type": "code",
   "execution_count": null,
   "id": "183057e9-ca24-4c97-b61f-22e24ceb9288",
   "metadata": {},
   "outputs": [],
   "source": []
  }
 ],
 "metadata": {
  "kernelspec": {
   "display_name": "Python [conda env:base] *",
   "language": "python",
   "name": "conda-base-py"
  },
  "language_info": {
   "codemirror_mode": {
    "name": "ipython",
    "version": 3
   },
   "file_extension": ".py",
   "mimetype": "text/x-python",
   "name": "python",
   "nbconvert_exporter": "python",
   "pygments_lexer": "ipython3",
   "version": "3.12.7"
  }
 },
 "nbformat": 4,
 "nbformat_minor": 5
}
