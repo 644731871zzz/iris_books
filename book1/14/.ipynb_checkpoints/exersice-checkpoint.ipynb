{
 "cells": [
  {
   "cell_type": "code",
   "execution_count": 2,
   "id": "7cd7a5a8-8fa6-4695-834b-8efc3e9c6272",
   "metadata": {},
   "outputs": [],
   "source": [
    "import numpy as np\n",
    "import seaborn as sns\n",
    "import matplotlib.pyplot as plt\n",
    "import math\n",
    "from matplotlib import cm\n",
    "\n",
    "#导入色谱\n",
    "import os\n",
    "\n",
    "#如果文件夹不存在,创建文件夹\n",
    "if not os.path.isdir(\"Figures\"):\n",
    "    os.makedirs(\"Figures\")"
   ]
  },
  {
   "cell_type": "code",
   "execution_count": 24,
   "id": "e9d81512-e478-424b-92b0-11f953159440",
   "metadata": {},
   "outputs": [],
   "source": [
    "#定义二元函数可视化\n",
    "def visualize_2D(array,title,vmax,vmin):\n",
    "    fig_width=math.ceil(array.shape[1]*0.5)\n",
    "    fig_length=math.ceil(array.shape[0]*0.5)\n",
    "\n",
    "    fig,ax=plt.subplots(figsize=(fig_width,fig_length))\n",
    "\n",
    "    sns.heatmap(array,vmax=vmax,vmin=vmin,\n",
    "                annot=True,fmt=\".0f\",\n",
    "                square=True,cmap='RdYlBu_r',\n",
    "                linewidths=.5,cbar=False,\n",
    "                yticklabels=False,xticklabels=False,\n",
    "                ax=ax)\n",
    "    fig.savefig('Figures/'+title+'.svg',format='svg')\n",
    "\n",
    "\n",
    "#定义一元函数可视化\n",
    "def visualize_1D(array,title):\n",
    "    fig,ax=plt.subplots()\n",
    "\n",
    "    colors=cm.RdYlBu_r(np.linspace(0,1,len(array)))\n",
    "\n",
    "    for idx in range(len(array)):\n",
    "        circle_idx=plt.Circle((idx,0),0.5,facecolor=colors[idx],edgecolor='w')\n",
    "        ax.add_patch(circle_idx)\n",
    "        ax.text(idx,0,s=str(array[idx]),\n",
    "                horizontalalignment='center',\n",
    "                verticalalignment='center')\n",
    "\n",
    "    ax.set_xlim(-0.6,0.6+len(array))\n",
    "    ax.set_ylim(-0.6,0.6+len(array))\n",
    "    ax.set_aspect('equal',adjestable='box')\n",
    "    ax.axis('off')\n",
    "    fig.savefig('Figures/' +title+'.svg',format='svg')"
   ]
  },
  {
   "cell_type": "code",
   "execution_count": 14,
   "id": "516355b0-9cac-4bf7-8d71-06361ff5269b",
   "metadata": {},
   "outputs": [
    {
     "data": {
      "text/plain": [
       "(11,)"
      ]
     },
     "execution_count": 14,
     "metadata": {},
     "output_type": "execute_result"
    }
   ],
   "source": [
    "a_1D_array=np.arange(-5,5+1)\n",
    "a_1D_array.shape"
   ]
  },
  {
   "cell_type": "code",
   "execution_count": 18,
   "id": "1c35b4ae-c23f-44d9-81ef-4c9d0b80edd0",
   "metadata": {},
   "outputs": [
    {
     "data": {
      "text/plain": [
       "1"
      ]
     },
     "execution_count": 18,
     "metadata": {},
     "output_type": "execute_result"
    }
   ],
   "source": [
    "a_1D_array.ndim"
   ]
  },
  {
   "cell_type": "code",
   "execution_count": 20,
   "id": "0bbf1db3-1088-4622-b342-8c174a6319d5",
   "metadata": {},
   "outputs": [
    {
     "data": {
      "text/plain": [
       "11"
      ]
     },
     "execution_count": 20,
     "metadata": {},
     "output_type": "execute_result"
    }
   ],
   "source": [
    "len(a_1D_array)"
   ]
  },
  {
   "cell_type": "code",
   "execution_count": 26,
   "id": "f21f16fb-bcda-4f4e-b927-d9d45944c926",
   "metadata": {},
   "outputs": [
    {
     "ename": "TypeError",
     "evalue": "_AxesBase.set_aspect() got an unexpected keyword argument 'adjestavle'",
     "output_type": "error",
     "traceback": [
      "\u001b[0;31m---------------------------------------------------------------------------\u001b[0m",
      "\u001b[0;31mTypeError\u001b[0m                                 Traceback (most recent call last)",
      "Cell \u001b[0;32mIn[26], line 1\u001b[0m\n\u001b[0;32m----> 1\u001b[0m visualize_1D(a_1D_array,\u001b[38;5;124m'\u001b[39m\u001b[38;5;124m一维数组\u001b[39m\u001b[38;5;124m'\u001b[39m)\n",
      "Cell \u001b[0;32mIn[24], line 32\u001b[0m, in \u001b[0;36mvisualize_1D\u001b[0;34m(array, title)\u001b[0m\n\u001b[1;32m     30\u001b[0m ax\u001b[38;5;241m.\u001b[39mset_xlim(\u001b[38;5;241m-\u001b[39m\u001b[38;5;241m0.6\u001b[39m,\u001b[38;5;241m0.6\u001b[39m\u001b[38;5;241m+\u001b[39m\u001b[38;5;28mlen\u001b[39m(array))\n\u001b[1;32m     31\u001b[0m ax\u001b[38;5;241m.\u001b[39mset_ylim(\u001b[38;5;241m-\u001b[39m\u001b[38;5;241m0.6\u001b[39m,\u001b[38;5;241m0.6\u001b[39m\u001b[38;5;241m+\u001b[39m\u001b[38;5;28mlen\u001b[39m(array))\n\u001b[0;32m---> 32\u001b[0m ax\u001b[38;5;241m.\u001b[39mset_aspect(\u001b[38;5;124m'\u001b[39m\u001b[38;5;124mequal\u001b[39m\u001b[38;5;124m'\u001b[39m,adjestavle\u001b[38;5;241m=\u001b[39m\u001b[38;5;124m'\u001b[39m\u001b[38;5;124mbox\u001b[39m\u001b[38;5;124m'\u001b[39m)\n\u001b[1;32m     33\u001b[0m ax\u001b[38;5;241m.\u001b[39maxis(\u001b[38;5;124m'\u001b[39m\u001b[38;5;124moff\u001b[39m\u001b[38;5;124m'\u001b[39m)\n\u001b[1;32m     34\u001b[0m fig\u001b[38;5;241m.\u001b[39msavefig(\u001b[38;5;124m'\u001b[39m\u001b[38;5;124mFigures/\u001b[39m\u001b[38;5;124m'\u001b[39m \u001b[38;5;241m+\u001b[39mtitle\u001b[38;5;241m+\u001b[39m\u001b[38;5;124m'\u001b[39m\u001b[38;5;124m.svg\u001b[39m\u001b[38;5;124m'\u001b[39m,\u001b[38;5;28mformat\u001b[39m\u001b[38;5;241m=\u001b[39m\u001b[38;5;124m'\u001b[39m\u001b[38;5;124msvg\u001b[39m\u001b[38;5;124m'\u001b[39m)\n",
      "\u001b[0;31mTypeError\u001b[0m: _AxesBase.set_aspect() got an unexpected keyword argument 'adjestavle'"
     ]
    },
    {
     "data": {
      "image/png": "[encoded data removed]",
      "text/plain": [
       "<Figure size 640x480 with 1 Axes>"
      ]
     },
     "metadata": {},
     "output_type": "display_data"
    }
   ],
   "source": [
    "visualize_1D(a_1D_array,'一维数组')"
   ]
  },
  {
   "cell_type": "code",
   "execution_count": null,
   "id": "a8590880-3284-4e1a-b996-c4161a00c573",
   "metadata": {},
   "outputs": [],
   "source": []
  }
 ],
 "metadata": {
  "kernelspec": {
   "display_name": "Python [conda env:base] *",
   "language": "python",
   "name": "conda-base-py"
  },
  "language_info": {
   "codemirror_mode": {
    "name": "ipython",
    "version": 3
   },
   "file_extension": ".py",
   "mimetype": "text/x-python",
   "name": "python",
   "nbconvert_exporter": "python",
   "pygments_lexer": "ipython3",
   "version": "3.12.7"
  }
 },
 "nbformat": 4,
 "nbformat_minor": 5
}
