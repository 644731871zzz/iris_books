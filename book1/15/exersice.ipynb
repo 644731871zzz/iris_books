{
 "cells": [
  {
   "cell_type": "code",
   "execution_count": 9,
   "id": "7cc2a459-a9a7-44ee-82a6-a9ebdd5ce1fe",
   "metadata": {},
   "outputs": [],
   "source": [
    "import numpy as np\n",
    "import matplotlib.pyplot as plt\n",
    "import seaborn as sns\n",
    "import math\n",
    "from matplotlib import cm\n",
    "import os\n",
    "\n",
    "#如果文件不存在创建文件夹\n",
    "if not os.path.isdir(\"Figures\"):\n",
    "    os.makedirs(\"Figures\")"
   ]
  },
  {
   "cell_type": "code",
   "execution_count": 11,
   "id": "ebc37965-b6d7-41fb-8659-7765b91699fc",
   "metadata": {},
   "outputs": [],
   "source": [
    "def visualize_2D(array,title,vmax,vmin): #vmax vmin表示绘制的圆圈的颜色的最大值最小值\n",
    "\n",
    "    fig_width  = math.ceil(array.shape[1]*0.5)\n",
    "    fig_length = math.ceil(array.shape[0]*0.5)\n",
    "\n",
    "    fig,ax=plt.subplots(figsize=(fig_width,fig_length))\n",
    "\n",
    "    sns.heatmap(array,vmax=vmax,vmin=vmin,annot=True,\n",
    "                fmt=\".2f\",square=True,cmap='RdYlBu_r',\n",
    "                linewidths=.5,cbar=False,\n",
    "                yticklabels=False,xticklabels=False,\n",
    "                ax=ax)\n",
    "    fig.savefig('Figures/' + title + '.svg', format='svg')\n",
    "\n",
    "def visualize_1D(array,title,vmax,vmin):\n",
    "    fig, ax = plt.subplots()\n",
    "    cmap = plt.colormaps.get_cmap(\"RdYlBu\")\n",
    "    array_norm=(array-vmin)/(vmax-vmin)\n",
    "    colors = cmap(array_norm)\n",
    "\n",
    "    for idx in range(len(array)):\n",
    "        circle_idx=plt.Circle((idx,0),0.5,facecolor=colors[idx],edgecolor='w')\n",
    "        ax.add_patch(circle_idx)\n",
    "        ax.text(idx,0,s=\"{:.1f}\".format(array[idx]),#s表示字符串,其中{}中的含义表示保留一位小数点\n",
    "                horizontalalignment='center',\n",
    "                verticalalignment='center')\n",
    "\n",
    "    ax.set_xlim(-0.6,0.6+len(array))\n",
    "    ax.set_ylim(-0.6,0.6)\n",
    "    ax.set_aspect('equal',adjustable='box')\n",
    "    ax.axis('off')\n",
    "    fig.savefig('Figures/' +title +'.svg',format='svg')"
   ]
  },
  {
   "cell_type": "code",
   "execution_count": 13,
   "id": "66bf89bf-8afa-442e-bc32-ff6c7788cd67",
   "metadata": {},
   "outputs": [
    {
     "data": {
      "image/png": "[encoded data removed]",
      "text/plain": [
       "<Figure size 640x480 with 1 Axes>"
      ]
     },
     "metadata": {},
     "output_type": "display_data"
    }
   ],
   "source": [
    "a_1D=np.arange(-2,2+1)\n",
    "visualize_1D(a_1D,'一维数组',-4,4)"
   ]
  },
  {
   "cell_type": "code",
   "execution_count": 15,
   "id": "0ea5715d-f81a-422e-8843-144922f3e7f6",
   "metadata": {},
   "outputs": [
    {
     "data": {
      "text/plain": [
       "array([2, 2, 2, 2, 2])"
      ]
     },
     "execution_count": 15,
     "metadata": {},
     "output_type": "execute_result"
    }
   ],
   "source": [
    "all_twos = 2*np.ones_like(a_1D) #深拷贝一个形状相同但是数值全为1的数组\n",
    "all_twos"
   ]
  },
  {
   "cell_type": "code",
   "execution_count": 21,
   "id": "6a0548a7-3806-406f-ae0d-c6c04c4bdfac",
   "metadata": {},
   "outputs": [
    {
     "data": {
      "text/plain": [
       "array([2, 2, 2, 2, 2])"
      ]
     },
     "execution_count": 21,
     "metadata": {},
     "output_type": "execute_result"
    }
   ],
   "source": [
    "np.full_like(a_1D,2)   #这次创建了一个形状相同,数值全为2的数组"
   ]
  },
  {
   "cell_type": "code",
   "execution_count": 29,
   "id": "2afaa32c-20c3-41e6-829f-2f01fd3b9697",
   "metadata": {},
   "outputs": [
    {
     "data": {
      "image/png": "[encoded data removed]",
      "text/plain": [
       "<Figure size 640x480 with 1 Axes>"
      ]
     },
     "metadata": {},
     "output_type": "display_data"
    }
   ],
   "source": [
    "visualize_1D(all_twos,'全为2,一维',-4,4)"
   ]
  },
  {
   "cell_type": "code",
   "execution_count": 31,
   "id": "90a3a7ac-9948-4b45-bde1-80d95e6d782a",
   "metadata": {},
   "outputs": [
    {
     "data": {
      "text/plain": [
       "array([0, 1, 2, 3, 4])"
      ]
     },
     "execution_count": 31,
     "metadata": {},
     "output_type": "execute_result"
    }
   ],
   "source": [
    "a_1D+all_twos"
   ]
  },
  {
   "cell_type": "code",
   "execution_count": 33,
   "id": "90d1f605-9a5d-4f1e-b9d9-1b77802cb7a4",
   "metadata": {},
   "outputs": [
    {
     "data": {
      "image/png": "[encoded data removed]",
      "text/plain": [
       "<Figure size 640x480 with 1 Axes>"
      ]
     },
     "metadata": {},
     "output_type": "display_data"
    }
   ],
   "source": [
    "visualize_1D(a_1D+all_twos,'一维数组,加法',-4,4)"
   ]
  },
  {
   "cell_type": "code",
   "execution_count": 35,
   "id": "ef41e8df-5a4f-4a4d-892d-24ee70493ecb",
   "metadata": {},
   "outputs": [
    {
     "data": {
      "text/plain": [
       "array([0, 1, 2, 3, 4])"
      ]
     },
     "execution_count": 35,
     "metadata": {},
     "output_type": "execute_result"
    }
   ],
   "source": [
    "np.add(a_1D,all_twos)"
   ]
  },
  {
   "cell_type": "code",
   "execution_count": 37,
   "id": "3f6b851c-24d2-462a-a042-bbbaf2748c94",
   "metadata": {},
   "outputs": [
    {
     "data": {
      "text/plain": [
       "array([-4, -3, -2, -1,  0])"
      ]
     },
     "execution_count": 37,
     "metadata": {},
     "output_type": "execute_result"
    }
   ],
   "source": [
    "a_1D-all_twos"
   ]
  },
  {
   "cell_type": "code",
   "execution_count": 39,
   "id": "4e43ccba-1655-4045-9537-382835a9d31d",
   "metadata": {},
   "outputs": [
    {
     "data": {
      "image/png": "[encoded data removed]",
      "text/plain": [
       "<Figure size 640x480 with 1 Axes>"
      ]
     },
     "metadata": {},
     "output_type": "display_data"
    }
   ],
   "source": [
    "visualize_1D(a_1D-all_twos,'一维数组,减法',-4,4)"
   ]
  },
  {
   "cell_type": "code",
   "execution_count": 41,
   "id": "6ee82f89-f89f-4a60-b86b-e9df4306583b",
   "metadata": {},
   "outputs": [
    {
     "data": {
      "text/plain": [
       "array([-4, -3, -2, -1,  0])"
      ]
     },
     "execution_count": 41,
     "metadata": {},
     "output_type": "execute_result"
    }
   ],
   "source": [
    "np.subtract(a_1D,all_twos)"
   ]
  },
  {
   "cell_type": "code",
   "execution_count": 43,
   "id": "28280d02-6382-42e0-8d11-8b374c2c5d46",
   "metadata": {},
   "outputs": [
    {
     "data": {
      "text/plain": [
       "array([-4, -2,  0,  2,  4])"
      ]
     },
     "execution_count": 43,
     "metadata": {},
     "output_type": "execute_result"
    }
   ],
   "source": [
    "a_1D*all_twos"
   ]
  },
  {
   "cell_type": "code",
   "execution_count": 47,
   "id": "862461ac-3e6b-4cbd-bb58-8819968f45aa",
   "metadata": {},
   "outputs": [
    {
     "data": {
      "image/png": "[encoded data removed]",
      "text/plain": [
       "<Figure size 640x480 with 1 Axes>"
      ]
     },
     "metadata": {},
     "output_type": "display_data"
    }
   ],
   "source": [
    "visualize_1D(a_1D*all_twos,'一维,乘法',-4,4)"
   ]
  },
  {
   "cell_type": "code",
   "execution_count": 49,
   "id": "35fcf218-cea5-4670-9cda-693eeeeb2bb7",
   "metadata": {},
   "outputs": [
    {
     "data": {
      "text/plain": [
       "array([-4, -2,  0,  2,  4])"
      ]
     },
     "execution_count": 49,
     "metadata": {},
     "output_type": "execute_result"
    }
   ],
   "source": [
    "np.multiply(a_1D,all_twos)"
   ]
  },
  {
   "cell_type": "code",
   "execution_count": 51,
   "id": "856b0608-3927-4dd4-b440-4908feb6b53e",
   "metadata": {},
   "outputs": [
    {
     "data": {
      "text/plain": [
       "array([-1. , -0.5,  0. ,  0.5,  1. ])"
      ]
     },
     "execution_count": 51,
     "metadata": {},
     "output_type": "execute_result"
    }
   ],
   "source": [
    "a_1D/all_twos"
   ]
  },
  {
   "cell_type": "code",
   "execution_count": 53,
   "id": "fb7d7ad5-3c13-45a5-ace9-5ef171bcb9ae",
   "metadata": {},
   "outputs": [
    {
     "data": {
      "image/png": "[encoded data removed]",
      "text/plain": [
       "<Figure size 640x480 with 1 Axes>"
      ]
     },
     "metadata": {},
     "output_type": "display_data"
    }
   ],
   "source": [
    "visualize_1D(a_1D/all_twos,'一维除法',-4,4)"
   ]
  },
  {
   "cell_type": "code",
   "execution_count": 57,
   "id": "e0bde6a6-9119-41d4-b02d-8ffb6f9c3b4a",
   "metadata": {},
   "outputs": [
    {
     "data": {
      "text/plain": [
       "array([-1. , -0.5,  0. ,  0.5,  1. ])"
      ]
     },
     "execution_count": 57,
     "metadata": {},
     "output_type": "execute_result"
    }
   ],
   "source": [
    "np.divide(a_1D,all_twos)"
   ]
  },
  {
   "cell_type": "code",
   "execution_count": 59,
   "id": "b8e74b30-696a-4c5c-b3f1-4cc39fbb714e",
   "metadata": {},
   "outputs": [
    {
     "data": {
      "text/plain": [
       "array([4, 1, 0, 1, 4])"
      ]
     },
     "execution_count": 59,
     "metadata": {},
     "output_type": "execute_result"
    }
   ],
   "source": [
    "a_1D**all_twos"
   ]
  },
  {
   "cell_type": "code",
   "execution_count": 61,
   "id": "65bf6e97-636f-4602-95cf-d31912eff3b7",
   "metadata": {},
   "outputs": [
    {
     "data": {
      "image/png": "[encoded data removed]",
      "text/plain": [
       "<Figure size 640x480 with 1 Axes>"
      ]
     },
     "metadata": {},
     "output_type": "display_data"
    }
   ],
   "source": [
    "visualize_1D(a_1D**all_twos,'一维,乘幂',-4,4)"
   ]
  },
  {
   "cell_type": "code",
   "execution_count": 63,
   "id": "7438b4da-413a-48c6-a7f7-0475374625db",
   "metadata": {},
   "outputs": [
    {
     "data": {
      "text/plain": [
       "array([4, 1, 0, 1, 4])"
      ]
     },
     "execution_count": 63,
     "metadata": {},
     "output_type": "execute_result"
    }
   ],
   "source": [
    "np.power(a_1D,all_twos)"
   ]
  },
  {
   "cell_type": "markdown",
   "id": "1a9e642b-031f-4d7b-bc79-694d1fea84b0",
   "metadata": {},
   "source": [
    "二维数组"
   ]
  },
  {
   "cell_type": "code",
   "execution_count": null,
   "id": "610fd8cb-005f-44c8-b818-03fc67822d49",
   "metadata": {},
   "outputs": [],
   "source": []
  }
 ],
 "metadata": {
  "kernelspec": {
   "display_name": "Python [conda env:base] *",
   "language": "python",
   "name": "conda-base-py"
  },
  "language_info": {
   "codemirror_mode": {
    "name": "ipython",
    "version": 3
   },
   "file_extension": ".py",
   "mimetype": "text/x-python",
   "name": "python",
   "nbconvert_exporter": "python",
   "pygments_lexer": "ipython3",
   "version": "3.12.7"
  }
 },
 "nbformat": 4,
 "nbformat_minor": 5
}
